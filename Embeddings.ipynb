{
 "cells": [
  {
   "cell_type": "code",
   "execution_count": 72,
   "id": "f0972b3e",
   "metadata": {},
   "outputs": [],
   "source": [
    "import numpy as np\n",
    "import pandas as pd\n",
    "import re\n",
    "import random\n",
    "import time\n",
    "import matplotlib.pyplot as plt\n",
    "import seaborn as sns\n",
    "from collections import Counter\n",
    "import networkx as nx\n",
    "import json\n",
    "import datetime as dt\n",
    "\n",
    "import tensorflow as tf\n",
    "from tensorflow.keras import Model\n",
    "from tensorflow.keras.layers import Input, Dot, Embedding, Flatten, Dense\n",
    "\n",
    "from sklearn.decomposition import PCA\n",
    "from sklearn.manifold import TSNE"
   ]
  },
  {
   "cell_type": "code",
   "execution_count": 73,
   "id": "1d5195fc",
   "metadata": {},
   "outputs": [],
   "source": [
    "path = \"/home/koki/Desktop/Data/OutOfStock/preprocessed.csv\"\n",
    "# \"/home/koki/Desktop/Data/OutOfStock/LEMeldungen_2021-11-01-16-50-35.csv\"\n",
    "df = pd.read_csv(path) # , sep=';')"
   ]
  },
  {
   "cell_type": "code",
   "execution_count": 74,
   "id": "16cd8311",
   "metadata": {},
   "outputs": [],
   "source": [
    "def standartize_string(x):\n",
    "    x = str(x)\n",
    "    x = x.split()[0]\n",
    "    x = x.lower()\n",
    "    x = re.sub(\"[\\(\\)]\", \"\", x)\n",
    "    return x"
   ]
  },
  {
   "cell_type": "code",
   "execution_count": 75,
   "id": "a202dd35",
   "metadata": {},
   "outputs": [],
   "source": [
    "def get_wirkstoff(x,sep=';'):\n",
    "    if x != x:\n",
    "        return [\"Missing\"]\n",
    "    x = str(x)\n",
    "    ws = x.split(sep)\n",
    "    res = []\n",
    "    for w in ws:\n",
    "        w = re.sub(\"[\\(\\[].*?[\\)\\]]\", \"\", w)\n",
    "        w = re.sub(\"[\\(\\)]\", \"\", w)\n",
    "        w = w.strip()\n",
    "        res.append(w)\n",
    "    return res"
   ]
  },
  {
   "cell_type": "code",
   "execution_count": 76,
   "id": "04bb33bc",
   "metadata": {},
   "outputs": [],
   "source": [
    "def get_list(x):\n",
    "    x = x[1:-1]\n",
    "    xspl = x.split(',')\n",
    "    res = []\n",
    "    for v in xspl:\n",
    "        res.append(v.strip('\\' '))\n",
    "    return res"
   ]
  },
  {
   "cell_type": "code",
   "execution_count": 77,
   "id": "359f6de6",
   "metadata": {},
   "outputs": [],
   "source": [
    "# df['wirkstoff'] = df['Wirkstoffe'].apply(lambda x : get_wirkstoff(x))\n",
    "df['wirkstoff'] = df['wirkstoff'].apply(lambda x: get_list(x))"
   ]
  },
  {
   "cell_type": "code",
   "execution_count": 78,
   "id": "64ae45bc",
   "metadata": {},
   "outputs": [],
   "source": [
    "names = {}\n",
    "for name in df['Zulassungsinhaber'].unique():\n",
    "    new_name = standartize_string(name)\n",
    "    names.setdefault(new_name, [])\n",
    "    names[new_name].append(name)\n",
    "    \n",
    "unique_names = {}\n",
    "for _, inhaber in names.items():\n",
    "    for inh in inhaber:\n",
    "        unique_names[inh] = inhaber[0]"
   ]
  },
  {
   "cell_type": "code",
   "execution_count": 79,
   "id": "2a3c13c0",
   "metadata": {},
   "outputs": [],
   "source": [
    "df = df.replace({\"Zulassungsinhaber\": unique_names})"
   ]
  },
  {
   "cell_type": "code",
   "execution_count": 80,
   "id": "44f955ad",
   "metadata": {},
   "outputs": [],
   "source": [
    "df['Beginn'] = pd.to_datetime(df['Beginn'], format='%Y-%m-%d')\n",
    "df['Ende'] = pd.to_datetime(df['Ende'], format='%Y-%m-%d')\n",
    "# df = df[df['Beginn'] < dt.datetime(2020,7,1)]"
   ]
  },
  {
   "cell_type": "code",
   "execution_count": null,
   "id": "200d70de",
   "metadata": {},
   "outputs": [],
   "source": []
  },
  {
   "cell_type": "code",
   "execution_count": 81,
   "id": "c1f3ac29",
   "metadata": {},
   "outputs": [],
   "source": [
    "def create_graph(df):\n",
    "    cmp_ws_map = {}\n",
    "    ws_map = {}\n",
    "    nr_bipartite_edges = 0 \n",
    "    nr_wirkstoff_edges = 0\n",
    "    for _,row in df.iterrows():\n",
    "        comp = row['Zulassungsinhaber']\n",
    "        wirkstoffe = row['wirkstoff']\n",
    "        for ws in wirkstoffe:\n",
    "            cmp_ws_map.setdefault((comp, ws), 0)\n",
    "            cmp_ws_map[(comp, ws)] += 1\n",
    "            nr_bipartite_edges += 1\n",
    "        for i in range(len(wirkstoffe)):\n",
    "            for j in range(i+1, len(wirkstoffe)):\n",
    "                ws_map.setdefault((wirkstoffe[i], wirkstoffe[j]), 0)\n",
    "                ws_map[(wirkstoffe[i], wirkstoffe[j])] += 1\n",
    "                nr_wirkstoff_edges += 1\n",
    "    G = nx.Graph()\n",
    "    \n",
    "    for pair, weight in cmp_ws_map.items():\n",
    "        G.add_edge(pair[0], pair[1], weight=weight)\n",
    "    for pair, weight in ws_map.items():\n",
    "        G.add_edge(pair[0], pair[1], weight=weight)\n",
    "    return G"
   ]
  },
  {
   "cell_type": "code",
   "execution_count": 82,
   "id": "e7d932a0",
   "metadata": {},
   "outputs": [],
   "source": [
    "G = create_graph(df)"
   ]
  },
  {
   "cell_type": "code",
   "execution_count": 83,
   "id": "ee46a156",
   "metadata": {},
   "outputs": [
    {
     "data": {
      "text/plain": [
       "(1336, 672)"
      ]
     },
     "execution_count": 83,
     "metadata": {},
     "output_type": "execute_result"
    }
   ],
   "source": [
    "G.number_of_edges(), G.number_of_nodes()"
   ]
  },
  {
   "cell_type": "code",
   "execution_count": 102,
   "id": "eea88dc9",
   "metadata": {},
   "outputs": [
    {
     "data": {
      "text/plain": [
       "['AstraZeneca GmbH',\n",
       " 'Goserelinacetat',\n",
       " 'Hexal Aktiengesellschaft',\n",
       " 'Octreotidacetat',\n",
       " 'Leo Pharma A/S Beiname: Leo Pharmaceutical Products Ltd. A/S',\n",
       " 'Natriumfusidat',\n",
       " 'Vinorelbinbis-tartrat]',\n",
       " '1 A Pharma GmbH',\n",
       " 'Rivastigmin',\n",
       " 'Isotretinoin']"
      ]
     },
     "execution_count": 102,
     "metadata": {},
     "output_type": "execute_result"
    }
   ],
   "source": [
    "list(G.nodes())[:10]"
   ]
  },
  {
   "cell_type": "code",
   "execution_count": 105,
   "id": "eb6880be",
   "metadata": {},
   "outputs": [
    {
     "data": {
      "text/plain": [
       "1"
      ]
     },
     "execution_count": 105,
     "metadata": {},
     "output_type": "execute_result"
    }
   ],
   "source": [
    "G['TEVA GmbH']['Primidon']['weight']"
   ]
  },
  {
   "cell_type": "code",
   "execution_count": 87,
   "id": "bc90b0b1",
   "metadata": {},
   "outputs": [],
   "source": [
    "def random_walk(G, u, k):\n",
    "    curr_node = u\n",
    "    walk = []\n",
    "    for i in range(k):\n",
    "        weights = []\n",
    "        for v in G[curr_node]:\n",
    "            weights.append(G[curr_node][v]['weight'])\n",
    "        idx = random.choices(range(len(list(G[curr_node]))), weights=weights, k=1) \n",
    "        #print(idx[0])\n",
    "        # idx = random.randint(0,len(list(G[curr_node]))-1)\n",
    "        curr_node = list(G[curr_node])[idx[0]]\n",
    "        walk.append(curr_node)\n",
    "    return walk"
   ]
  },
  {
   "cell_type": "code",
   "execution_count": 88,
   "id": "27d0cfab",
   "metadata": {},
   "outputs": [
    {
     "data": {
      "text/plain": [
       "['1 A Pharma GmbH', 'Hydrochlorothiazid', 'Valsartan']"
      ]
     },
     "execution_count": 88,
     "metadata": {},
     "output_type": "execute_result"
    }
   ],
   "source": [
    "random_walk(G, 'Rivastigmin', 3)"
   ]
  },
  {
   "cell_type": "code",
   "execution_count": 89,
   "id": "a895dd4f",
   "metadata": {},
   "outputs": [],
   "source": [
    "# we need to work with consecutive integers for our embedding algorithm\n",
    "# below we create two hash tables that map \n",
    "node_to_int = {}\n",
    "int_to_node = {}\n",
    "for i, u in enumerate(list(G.nodes())):\n",
    "    node_to_int[u] = i\n",
    "    int_to_node[i] = u"
   ]
  },
  {
   "cell_type": "code",
   "execution_count": 90,
   "id": "6932f23a",
   "metadata": {},
   "outputs": [],
   "source": [
    "class RandomWalkGen(tf.keras.utils.Sequence):\n",
    "    \"\"\"\n",
    "        A generator class that will feed positive and negative examples.\n",
    "    \"\"\"    \n",
    "    \n",
    "    def __init__(self, \n",
    "                 G, \n",
    "                 walk_length, \n",
    "                 node_to_int,\n",
    "                 nr_neg_samples, \n",
    "                 nr_nn, batch_size):\n",
    "        \n",
    "        \"\"\"\n",
    "        Initialization\n",
    "        :param G: the (undirected) input graph\n",
    "        :param walk_length: the length of the random walk\n",
    "        :param node_to_int: a mapping of node ids to integers\n",
    "        :param nr_neg_samples: the number of negative samples for positive pair\n",
    "        :param nr_nn: how many neighbors per candidate to generate\n",
    "        :param batch_size: how many samples to generate\n",
    "        \"\"\"\n",
    "        self.G = G\n",
    "        self.walk_length = walk_length\n",
    "        self.node_to_int = node_to_int\n",
    "        assert nr_neg_samples >= 1\n",
    "        self.nr_neg_samples = nr_neg_samples # by how mach to multiply the number pf positive samples\n",
    "        self.nr_nn = nr_nn\n",
    "        self.batch_size = batch_size\n",
    "        \n",
    "         \n",
    "    # how many samples to generate per epoch        \n",
    "    def __len__(self):\n",
    "        return 10000\n",
    "    \n",
    "    def __getitem__(self, idx):\n",
    "        i = 0\n",
    "        samples = []\n",
    "        labels = []\n",
    "        while i < self.batch_size:\n",
    "            i += 1\n",
    "            start = np.random.randint(self.G.number_of_nodes())\n",
    "            u = list(self.G.nodes())[start]\n",
    "            walk = self.random_walk(u)\n",
    "            \n",
    "            neg_idx = np.random.choice(self.G.number_of_nodes(), self.nr_neg_samples*self.walk_length)\n",
    "            neg = [list(G.nodes())[idx] for idx in neg_idx]\n",
    "            \n",
    "            # generate positive samples from the random walk\n",
    "            samples.extend([(self.node_to_int[u],self.node_to_int[p]) for p in walk])\n",
    "            labels.extend(self.walk_length*[1])\n",
    "            \n",
    "            # generate negative samples, a multiple of the walk length\n",
    "            samples.extend([(self.node_to_int[u], self.node_to_int[n]) for n in neg])\n",
    "            labels.extend(self.nr_neg_samples*self.walk_length*[0])\n",
    "        return np.array(samples), np.array(labels)\n",
    "    \n",
    "    def random_walk(self, u):\n",
    "        curr_node = u\n",
    "        walk = []\n",
    "        for i in range(self.walk_length):\n",
    "            weights = []\n",
    "            for v in self.G[curr_node]:\n",
    "                weights.append(self.G[curr_node][v]['weight'])\n",
    "            idx = random.choices(range(len(list(self.G[curr_node]))), weights=weights, k=1) \n",
    "            #print(idx[0])\n",
    "            # idx = random.randint(0,len(list(G[curr_node]))-1)\n",
    "            curr_node = list(self.G[curr_node])[idx[0]]\n",
    "            walk.append(curr_node)\n",
    "        return walk"
   ]
  },
  {
   "cell_type": "code",
   "execution_count": 91,
   "id": "3f739c47",
   "metadata": {},
   "outputs": [],
   "source": [
    "gen = RandomWalkGen(G, walk_length=4, node_to_int=node_to_int, \n",
    "                     nr_neg_samples=2, nr_nn=50, batch_size=1)"
   ]
  },
  {
   "cell_type": "code",
   "execution_count": 92,
   "id": "df438f3b",
   "metadata": {},
   "outputs": [
    {
     "data": {
      "text/plain": [
       "(array([[ 83,  86],\n",
       "        [ 83,  80],\n",
       "        [ 83,  82],\n",
       "        [ 83,  89],\n",
       "        [ 83, 480],\n",
       "        [ 83, 290],\n",
       "        [ 83, 254],\n",
       "        [ 83, 213],\n",
       "        [ 83, 377],\n",
       "        [ 83, 205],\n",
       "        [ 83, 617],\n",
       "        [ 83,  54]]),\n",
       " array([1, 1, 1, 1, 0, 0, 0, 0, 0, 0, 0, 0]))"
      ]
     },
     "execution_count": 92,
     "metadata": {},
     "output_type": "execute_result"
    }
   ],
   "source": [
    "gen[1]"
   ]
  },
  {
   "cell_type": "code",
   "execution_count": 93,
   "id": "764209f1",
   "metadata": {},
   "outputs": [],
   "source": [
    "class Node2Vec(Model):\n",
    "    \"\"\"\n",
    "    The discriminative model that trains node embeddings. \n",
    "    Essentially, this is word2vec with negative sampling.\n",
    "    \"\"\"\n",
    "    def __init__(self, nr_nodes, embedding_dim, *args, **kwargs):\n",
    "        super(Node2Vec, self).__init__(self, args, kwargs)\n",
    "        self.nr_nodes = nr_nodes\n",
    "        self.embedding_dim = embedding_dim\n",
    "        self.target_embedding = Embedding(nr_nodes,\n",
    "                                          embedding_dim,\n",
    "                                          embeddings_initializer=\"RandomNormal\",\n",
    "                                          input_length=1,\n",
    "                                          name=\"node_embedding\")\n",
    "        self.context_embedding = Embedding(nr_nodes,\n",
    "                                           embedding_dim,\n",
    "                                           embeddings_initializer=\"RandomNormal\",\n",
    "                                           input_length=1,\n",
    "                                           name=\"context_embedding\")\n",
    "        self.dots = Dot(axes=1)\n",
    "        self.flatten = Flatten()\n",
    "        self.dense = Dense(1, activation='sigmoid')\n",
    "\n",
    "    def call(self, pair):\n",
    "        target, context = pair[:,0], pair[:,1]\n",
    "        word_emb = self.target_embedding(target)\n",
    "        context_emb = self.context_embedding(context)\n",
    "        dots = self.dots([context_emb, word_emb])\n",
    "        flat = self.flatten(dots)\n",
    "        return self.dense(flat)\n",
    "    \n",
    "    def summary(self):\n",
    "        x = Input(shape=(2,))\n",
    "        model = Model(inputs=[x], outputs=self.call(x))\n",
    "        return model.summary()"
   ]
  },
  {
   "cell_type": "code",
   "execution_count": 94,
   "id": "30546e96",
   "metadata": {},
   "outputs": [],
   "source": [
    "# this is a small graph, so the embedding dimensionality can be also small \n",
    "embedding_dim = 10\n",
    "nr_nodes = G.number_of_nodes()\n",
    "n2v = Node2Vec(nr_nodes=nr_nodes, embedding_dim=embedding_dim)\n",
    "n2v.build(input_shape=(nr_nodes, embedding_dim))\n",
    "n2v.compile(optimizer='adam',\n",
    "                 loss= 'binary_crossentropy', \n",
    "                 metrics=['accuracy', 'AUC'])"
   ]
  },
  {
   "cell_type": "code",
   "execution_count": 95,
   "id": "7aacb42c",
   "metadata": {},
   "outputs": [
    {
     "name": "stdout",
     "output_type": "stream",
     "text": [
      "Model: \"model_1\"\n",
      "__________________________________________________________________________________________________\n",
      "Layer (type)                    Output Shape         Param #     Connected to                     \n",
      "==================================================================================================\n",
      "input_2 (InputLayer)            [(None, 2)]          0                                            \n",
      "__________________________________________________________________________________________________\n",
      "tf.__operators__.getitem_3 (Sli (None,)              0           input_2[0][0]                    \n",
      "__________________________________________________________________________________________________\n",
      "tf.__operators__.getitem_2 (Sli (None,)              0           input_2[0][0]                    \n",
      "__________________________________________________________________________________________________\n",
      "context_embedding (Embedding)   (None, 10)           6720        tf.__operators__.getitem_3[0][0] \n",
      "__________________________________________________________________________________________________\n",
      "node_embedding (Embedding)      (None, 10)           6720        tf.__operators__.getitem_2[0][0] \n",
      "__________________________________________________________________________________________________\n",
      "dot_1 (Dot)                     (None, 1)            0           context_embedding[0][0]          \n",
      "                                                                 node_embedding[0][0]             \n",
      "__________________________________________________________________________________________________\n",
      "flatten_1 (Flatten)             (None, 1)            0           dot_1[0][0]                      \n",
      "__________________________________________________________________________________________________\n",
      "dense_1 (Dense)                 (None, 1)            2           flatten_1[0][0]                  \n",
      "==================================================================================================\n",
      "Total params: 13,442\n",
      "Trainable params: 13,442\n",
      "Non-trainable params: 0\n",
      "__________________________________________________________________________________________________\n"
     ]
    }
   ],
   "source": [
    "n2v.summary()"
   ]
  },
  {
   "cell_type": "code",
   "execution_count": 96,
   "id": "bbf7335b",
   "metadata": {},
   "outputs": [
    {
     "name": "stdout",
     "output_type": "stream",
     "text": [
      "Epoch 1/5\n",
      "10000/10000 [==============================] - 22s 2ms/step - loss: 0.4566 - accuracy: 0.7922 - auc: 0.8582\n",
      "Epoch 2/5\n",
      "10000/10000 [==============================] - 22s 2ms/step - loss: 0.2353 - accuracy: 0.9169 - auc: 0.9568\n",
      "Epoch 3/5\n",
      "10000/10000 [==============================] - 22s 2ms/step - loss: 0.1938 - accuracy: 0.9315 - auc: 0.9706\n",
      "Epoch 4/5\n",
      "10000/10000 [==============================] - 22s 2ms/step - loss: 0.1788 - accuracy: 0.9386 - auc: 0.9750\n",
      "Epoch 5/5\n",
      "10000/10000 [==============================] - 22s 2ms/step - loss: 0.1681 - accuracy: 0.9424 - auc: 0.9779\n"
     ]
    },
    {
     "data": {
      "text/plain": [
       "<tensorflow.python.keras.callbacks.History at 0x7f2c204b60a0>"
      ]
     },
     "execution_count": 96,
     "metadata": {},
     "output_type": "execute_result"
    }
   ],
   "source": [
    "n2v.fit(gen, epochs=5)"
   ]
  },
  {
   "cell_type": "code",
   "execution_count": 97,
   "id": "2a16eb92",
   "metadata": {},
   "outputs": [],
   "source": [
    "embeddings = n2v.get_layer('node_embedding').get_weights()[0]"
   ]
  },
  {
   "cell_type": "code",
   "execution_count": 98,
   "id": "db72981e",
   "metadata": {},
   "outputs": [],
   "source": [
    "node_embeddings = {int_to_node[idx]: emb for idx, emb in enumerate(embeddings)}"
   ]
  },
  {
   "cell_type": "code",
   "execution_count": 101,
   "id": "37416f88",
   "metadata": {},
   "outputs": [
    {
     "data": {
      "text/plain": [
       "array([-0.25921142, -0.36301208, -0.29553938,  0.15493117,  0.48610044,\n",
       "        0.04258491,  0.33139575, -0.04557682,  0.18545921,  0.12997192],\n",
       "      dtype=float32)"
      ]
     },
     "execution_count": 101,
     "metadata": {},
     "output_type": "execute_result"
    }
   ],
   "source": [
    "node_embeddings['TEVA GmbH']"
   ]
  },
  {
   "cell_type": "code",
   "execution_count": 100,
   "id": "ad665d03",
   "metadata": {},
   "outputs": [],
   "source": [
    "f = open(\"/home/koki/Desktop/Data/OutOfStock/embeddings.txt\", \"w\")\n",
    "for comp, vec in node_embeddings.items():\n",
    "    if comp != comp:\n",
    "        continue\n",
    "    # print(comp)\n",
    "    str_vec = \"\"\n",
    "    for v in vec:\n",
    "        str_vec += str(v) + \" \"\n",
    "    f.write(comp + \"<->\" + str_vec + \"\\n\")\n",
    "f.close()"
   ]
  },
  {
   "cell_type": "code",
   "execution_count": null,
   "id": "6ad1bdb2",
   "metadata": {},
   "outputs": [],
   "source": []
  },
  {
   "cell_type": "code",
   "execution_count": null,
   "id": "7012a2e6",
   "metadata": {},
   "outputs": [],
   "source": []
  },
  {
   "cell_type": "code",
   "execution_count": null,
   "id": "e7a09588",
   "metadata": {},
   "outputs": [],
   "source": []
  },
  {
   "cell_type": "code",
   "execution_count": null,
   "id": "6f9ab2d3",
   "metadata": {},
   "outputs": [],
   "source": []
  },
  {
   "cell_type": "code",
   "execution_count": 209,
   "id": "09b49daf",
   "metadata": {},
   "outputs": [],
   "source": [
    "def get_matrix(df, featname, mincnt): \n",
    "    names = []\n",
    "    X = []\n",
    "    for comp, cnt in df[featname].value_counts().to_dict().items():\n",
    "        if cnt > mincnt:\n",
    "            X.append(node_embeddings[comp])\n",
    "            names.append(comp)\n",
    "    X = np.array(X)\n",
    "    return X, names"
   ]
  },
  {
   "cell_type": "code",
   "execution_count": 212,
   "id": "348d1e90",
   "metadata": {},
   "outputs": [],
   "source": [
    "X_comp, names_comp = get_matrix(df, \"Zulassungsinhaber\", 20)"
   ]
  },
  {
   "cell_type": "code",
   "execution_count": 218,
   "id": "470f8181",
   "metadata": {},
   "outputs": [
    {
     "data": {
      "text/plain": [
       "['Glenmark Arzneimittel GmbH',\n",
       " 'Hexal Aktiengesellschaft',\n",
       " 'ratiopharm GmbH',\n",
       " '1 A Pharma GmbH',\n",
       " 'ALIUD PHARMA GmbH',\n",
       " 'Merck Serono GmbH',\n",
       " 'Pfizer Pharma PFE GmbH',\n",
       " 'PUREN Pharma GmbH & Co. KG',\n",
       " 'TEVA GmbH',\n",
       " 'STADAPHARM, Gesellschaft mit beschr�nkter Haftung',\n",
       " 'Sanofi-Aventis Deutschland GmbH',\n",
       " 'Aspen Pharma Trading Limited',\n",
       " 'AbZ-Pharma GmbH - Gesch�ftsanschrift -',\n",
       " 'Fresenius Kabi Deutschland GmbH',\n",
       " 'Winthrop Arzneimittel GmbH',\n",
       " 'Hennig Arzneimittel GmbH & Co KG',\n",
       " 'B. Braun Melsungen Aktiengesellschaft',\n",
       " 'Zentiva Pharma GmbH',\n",
       " 'Galderma Laboratorium GmbH']"
      ]
     },
     "execution_count": 218,
     "metadata": {},
     "output_type": "execute_result"
    }
   ],
   "source": [
    "names_comp"
   ]
  },
  {
   "cell_type": "code",
   "execution_count": 213,
   "id": "25e6c897",
   "metadata": {},
   "outputs": [],
   "source": [
    "pca = PCA(n_components=3)\n",
    "pca_result = pca.fit_transform(X_comp)"
   ]
  },
  {
   "cell_type": "code",
   "execution_count": 214,
   "id": "715ddfe7",
   "metadata": {},
   "outputs": [
    {
     "name": "stdout",
     "output_type": "stream",
     "text": [
      "Explained variation per principal component: [0.26307812 0.24245289 0.17772365]\n"
     ]
    }
   ],
   "source": [
    "print('Explained variation per principal component: {}'.format(pca.explained_variance_ratio_))"
   ]
  },
  {
   "cell_type": "code",
   "execution_count": 215,
   "id": "4071812f",
   "metadata": {},
   "outputs": [
    {
     "data": {
      "text/plain": [
       "array([[-0.12274504,  0.6810014 ],\n",
       "       [-0.01485707,  0.23408708],\n",
       "       [-0.20394273, -0.16102876],\n",
       "       [ 0.05029757,  0.04941563],\n",
       "       [-0.14748517,  0.05544694],\n",
       "       [ 0.6351374 ,  0.26454133],\n",
       "       [-0.13544868, -0.5628942 ],\n",
       "       [-0.38164046,  0.47637293],\n",
       "       [-0.65957177, -0.34583056],\n",
       "       [-0.37661138,  0.06148685],\n",
       "       [ 0.68945473, -0.31778142],\n",
       "       [-0.12873414, -0.48192546],\n",
       "       [-0.15463205,  0.07825699],\n",
       "       [ 0.192632  , -0.12363058],\n",
       "       [ 0.5535198 ,  0.20252837],\n",
       "       [-0.15172862,  0.15103096],\n",
       "       [-0.00788037, -0.6679207 ],\n",
       "       [-0.23819701,  0.42118385],\n",
       "       [ 0.60243297, -0.01434103]], dtype=float32)"
      ]
     },
     "execution_count": 215,
     "metadata": {},
     "output_type": "execute_result"
    }
   ],
   "source": [
    "pca_result[:,:2]"
   ]
  },
  {
   "cell_type": "code",
   "execution_count": 221,
   "id": "d03ad524",
   "metadata": {},
   "outputs": [
    {
     "data": {
      "image/png": "[encoded data removed]",
      "text/plain": [
       "<Figure size 1872x720 with 1 Axes>"
      ]
     },
     "metadata": {
      "needs_background": "light"
     },
     "output_type": "display_data"
    }
   ],
   "source": [
    "plt.figure(figsize=(26,10))\n",
    "sns.scatterplot(\n",
    "    x=pca_result[:,0], y=pca_result[:,1],\n",
    "    #hue=\"code\",\n",
    "    palette=sns.color_palette(\"hls\", 3),\n",
    "    #data=pca_result[:,:2],\n",
    "    #legend=\"full\",\n",
    "    s=150,\n",
    "    alpha=0.9\n",
    ")\n",
    "\n",
    "random.seed(9)\n",
    "for i in range(len(names_comp)):\n",
    "    r1 = 0.2*(random.random()-0.5)\n",
    "    r2 = 0.2*(random.random()-0.5)\n",
    "    plt.text(x=pca_result[i, 0]+r1, y=pca_result[i,1] + r2, s=names_comp[i], \n",
    "          fontdict=dict(color='red',size=15),\n",
    "          bbox=dict(facecolor='yellow',alpha=0.25))\n",
    "plt.margins(0.12)"
   ]
  },
  {
   "cell_type": "code",
   "execution_count": 222,
   "id": "b4cdbb7b",
   "metadata": {},
   "outputs": [
    {
     "data": {
      "text/plain": [
       "-0.012118359770024968"
      ]
     },
     "execution_count": 222,
     "metadata": {},
     "output_type": "execute_result"
    }
   ],
   "source": [
    "0.1*(random.random()-0.5)"
   ]
  },
  {
   "cell_type": "code",
   "execution_count": null,
   "id": "9a1d72fa",
   "metadata": {},
   "outputs": [],
   "source": []
  },
  {
   "cell_type": "code",
   "execution_count": 232,
   "id": "0db154cc",
   "metadata": {},
   "outputs": [
    {
     "name": "stdout",
     "output_type": "stream",
     "text": [
      "[t-SNE] Computing 18 nearest neighbors...\n",
      "[t-SNE] Indexed 19 samples in 0.000s...\n",
      "[t-SNE] Computed neighbors for 19 samples in 0.001s...\n",
      "[t-SNE] Computed conditional probabilities for sample 19 / 19\n",
      "[t-SNE] Mean sigma: 0.536060\n",
      "[t-SNE] KL divergence after 250 iterations with early exaggeration: 68.917511\n",
      "[t-SNE] KL divergence after 2000 iterations: 0.252752\n",
      "t-SNE done! Time elapsed: 0.2584803104400635 seconds\n"
     ]
    }
   ],
   "source": [
    "time_start = time.time()\n",
    "tsne = TSNE(n_components=2, verbose=1, perplexity=10, n_iter=10000)\n",
    "tsne_results = tsne.fit_transform(X_comp)\n",
    "print('t-SNE done! Time elapsed: {} seconds'.format(time.time()-time_start))"
   ]
  },
  {
   "cell_type": "code",
   "execution_count": 233,
   "id": "de0e32a2",
   "metadata": {},
   "outputs": [
    {
     "data": {
      "image/png": "[encoded data removed]",
      "text/plain": [
       "<Figure size 1872x864 with 1 Axes>"
      ]
     },
     "metadata": {
      "needs_background": "light"
     },
     "output_type": "display_data"
    }
   ],
   "source": [
    "plt.figure(figsize=(26,12))\n",
    "sns.scatterplot(\n",
    "    x=tsne_results[:,0], \n",
    "    y=tsne_results[:,1],\n",
    "    #hue=\"code\",\n",
    "    palette=sns.color_palette(\"hls\", 3),\n",
    "    #data=pca_result[:,:2],\n",
    "    #legend=\"full\",\n",
    "    s=150,\n",
    "    alpha=0.9\n",
    ")\n",
    "\n",
    "random.seed(9)\n",
    "for i in range(len(names_comp)):\n",
    "    r1 = -50 #0.2*(random.random()-0.5)\n",
    "    r2 = 30 # 0.2*(random.random()-0.5)\n",
    "    plt.text(x=tsne_results[i, 0]+r1, y=tsne_results[i,1] + r2, s=names_comp[i], \n",
    "          fontdict=dict(color='red',size=15),\n",
    "          bbox=dict(facecolor='yellow',alpha=0.25))\n",
    "plt.margins(0.1)\n",
    "# plt.subplots_adjust(left=0, right=26, top=20, bottom=0)"
   ]
  },
  {
   "cell_type": "code",
   "execution_count": 227,
   "id": "d3dd24ef",
   "metadata": {},
   "outputs": [
    {
     "data": {
      "text/plain": [
       "['Glenmark Arzneimittel GmbH',\n",
       " 'Hexal Aktiengesellschaft',\n",
       " 'ratiopharm GmbH',\n",
       " '1 A Pharma GmbH',\n",
       " 'ALIUD PHARMA GmbH',\n",
       " 'Merck Serono GmbH',\n",
       " 'Pfizer Pharma PFE GmbH',\n",
       " 'PUREN Pharma GmbH & Co. KG',\n",
       " 'TEVA GmbH',\n",
       " 'STADAPHARM, Gesellschaft mit beschr�nkter Haftung',\n",
       " 'Sanofi-Aventis Deutschland GmbH',\n",
       " 'Aspen Pharma Trading Limited',\n",
       " 'AbZ-Pharma GmbH - Gesch�ftsanschrift -',\n",
       " 'Fresenius Kabi Deutschland GmbH',\n",
       " 'Winthrop Arzneimittel GmbH',\n",
       " 'Hennig Arzneimittel GmbH & Co KG',\n",
       " 'B. Braun Melsungen Aktiengesellschaft',\n",
       " 'Zentiva Pharma GmbH',\n",
       " 'Galderma Laboratorium GmbH']"
      ]
     },
     "execution_count": 227,
     "metadata": {},
     "output_type": "execute_result"
    }
   ],
   "source": [
    "names_comp"
   ]
  },
  {
   "cell_type": "code",
   "execution_count": 228,
   "id": "9615d8aa",
   "metadata": {},
   "outputs": [],
   "source": [
    "def cosine(x, y):\n",
    "    if np.linalg.norm(x) == 0 or np.linalg.norm(y) == 0:\n",
    "        return 0\n",
    "    return np.dot(x, y)/(np.linalg.norm(x)*np.linalg.norm(y))"
   ]
  },
  {
   "cell_type": "code",
   "execution_count": 234,
   "id": "1ae939d7",
   "metadata": {},
   "outputs": [
    {
     "name": "stdout",
     "output_type": "stream",
     "text": [
      "Glenmark Arzneimittel GmbH Glenmark Arzneimittel GmbH 0.99999994\n",
      "Glenmark Arzneimittel GmbH Hexal Aktiengesellschaft 0.4213748\n",
      "Glenmark Arzneimittel GmbH ratiopharm GmbH -0.029960323\n",
      "Glenmark Arzneimittel GmbH 1 A Pharma GmbH 0.015289158\n",
      "Glenmark Arzneimittel GmbH ALIUD PHARMA GmbH 0.18123236\n",
      "Glenmark Arzneimittel GmbH Merck Serono GmbH 0.07991806\n",
      "Glenmark Arzneimittel GmbH Pfizer Pharma PFE GmbH -0.2392924\n",
      "Glenmark Arzneimittel GmbH PUREN Pharma GmbH & Co. KG 0.6958099\n",
      "Glenmark Arzneimittel GmbH TEVA GmbH 0.019192358\n",
      "Glenmark Arzneimittel GmbH STADAPHARM, Gesellschaft mit beschr�nkter Haftung 0.16226988\n",
      "Glenmark Arzneimittel GmbH Sanofi-Aventis Deutschland GmbH -0.43104357\n",
      "Glenmark Arzneimittel GmbH Aspen Pharma Trading Limited -0.3225652\n",
      "Glenmark Arzneimittel GmbH AbZ-Pharma GmbH - Gesch�ftsanschrift - 0.18049264\n",
      "Glenmark Arzneimittel GmbH Fresenius Kabi Deutschland GmbH 0.111596145\n",
      "Glenmark Arzneimittel GmbH Winthrop Arzneimittel GmbH 0.08207281\n",
      "Glenmark Arzneimittel GmbH Hennig Arzneimittel GmbH & Co KG 0.20558447\n",
      "Glenmark Arzneimittel GmbH B. Braun Melsungen Aktiengesellschaft -0.29888824\n",
      "Glenmark Arzneimittel GmbH Zentiva Pharma GmbH 0.732257\n",
      "Glenmark Arzneimittel GmbH Galderma Laboratorium GmbH -0.041686743\n",
      "Hexal Aktiengesellschaft Glenmark Arzneimittel GmbH 0.4213748\n",
      "Hexal Aktiengesellschaft Hexal Aktiengesellschaft 1.0\n",
      "Hexal Aktiengesellschaft ratiopharm GmbH 0.63754016\n",
      "Hexal Aktiengesellschaft 1 A Pharma GmbH 0.71738946\n",
      "Hexal Aktiengesellschaft ALIUD PHARMA GmbH 0.7506107\n",
      "Hexal Aktiengesellschaft Merck Serono GmbH 0.51035285\n",
      "Hexal Aktiengesellschaft Pfizer Pharma PFE GmbH 0.30416158\n",
      "Hexal Aktiengesellschaft PUREN Pharma GmbH & Co. KG 0.71300715\n",
      "Hexal Aktiengesellschaft TEVA GmbH 0.2517775\n",
      "Hexal Aktiengesellschaft STADAPHARM, Gesellschaft mit beschr�nkter Haftung 0.53652644\n",
      "Hexal Aktiengesellschaft Sanofi-Aventis Deutschland GmbH 0.31854466\n",
      "Hexal Aktiengesellschaft Aspen Pharma Trading Limited 0.31436175\n",
      "Hexal Aktiengesellschaft AbZ-Pharma GmbH - Gesch�ftsanschrift - 0.68324995\n",
      "Hexal Aktiengesellschaft Fresenius Kabi Deutschland GmbH 0.28813368\n",
      "Hexal Aktiengesellschaft Winthrop Arzneimittel GmbH 0.23360117\n",
      "Hexal Aktiengesellschaft Hennig Arzneimittel GmbH & Co KG 0.7995229\n",
      "Hexal Aktiengesellschaft B. Braun Melsungen Aktiengesellschaft 0.073389545\n",
      "Hexal Aktiengesellschaft Zentiva Pharma GmbH 0.7658719\n",
      "Hexal Aktiengesellschaft Galderma Laboratorium GmbH 0.16887861\n",
      "ratiopharm GmbH Glenmark Arzneimittel GmbH -0.029960323\n",
      "ratiopharm GmbH Hexal Aktiengesellschaft 0.63754016\n",
      "ratiopharm GmbH ratiopharm GmbH 1.0\n",
      "ratiopharm GmbH 1 A Pharma GmbH 0.7357635\n",
      "ratiopharm GmbH ALIUD PHARMA GmbH 0.90746725\n",
      "ratiopharm GmbH Merck Serono GmbH 0.16953957\n",
      "ratiopharm GmbH Pfizer Pharma PFE GmbH 0.66414815\n",
      "ratiopharm GmbH PUREN Pharma GmbH & Co. KG 0.6253676\n",
      "ratiopharm GmbH TEVA GmbH 0.4602516\n",
      "ratiopharm GmbH STADAPHARM, Gesellschaft mit beschr�nkter Haftung 0.60583836\n",
      "ratiopharm GmbH Sanofi-Aventis Deutschland GmbH 0.34067836\n",
      "ratiopharm GmbH Aspen Pharma Trading Limited 0.72406495\n",
      "ratiopharm GmbH AbZ-Pharma GmbH - Gesch�ftsanschrift - 0.869409\n",
      "ratiopharm GmbH Fresenius Kabi Deutschland GmbH 0.24994718\n",
      "ratiopharm GmbH Winthrop Arzneimittel GmbH 0.28254926\n",
      "ratiopharm GmbH Hennig Arzneimittel GmbH & Co KG 0.7247331\n",
      "ratiopharm GmbH B. Braun Melsungen Aktiengesellschaft 0.1790618\n",
      "ratiopharm GmbH Zentiva Pharma GmbH 0.53298\n",
      "ratiopharm GmbH Galderma Laboratorium GmbH -0.0017017286\n",
      "1 A Pharma GmbH Glenmark Arzneimittel GmbH 0.015289158\n",
      "1 A Pharma GmbH Hexal Aktiengesellschaft 0.71738946\n",
      "1 A Pharma GmbH ratiopharm GmbH 0.7357635\n",
      "1 A Pharma GmbH 1 A Pharma GmbH 0.99999994\n",
      "1 A Pharma GmbH ALIUD PHARMA GmbH 0.8360098\n",
      "1 A Pharma GmbH Merck Serono GmbH 0.5273249\n",
      "1 A Pharma GmbH Pfizer Pharma PFE GmbH 0.47298786\n",
      "1 A Pharma GmbH PUREN Pharma GmbH & Co. KG 0.44972456\n",
      "1 A Pharma GmbH TEVA GmbH 0.23127756\n",
      "1 A Pharma GmbH STADAPHARM, Gesellschaft mit beschr�nkter Haftung 0.66247225\n",
      "1 A Pharma GmbH Sanofi-Aventis Deutschland GmbH 0.4997185\n",
      "1 A Pharma GmbH Aspen Pharma Trading Limited 0.58188635\n",
      "1 A Pharma GmbH AbZ-Pharma GmbH - Gesch�ftsanschrift - 0.7478163\n",
      "1 A Pharma GmbH Fresenius Kabi Deutschland GmbH -0.21622388\n",
      "1 A Pharma GmbH Winthrop Arzneimittel GmbH 0.32376835\n",
      "1 A Pharma GmbH Hennig Arzneimittel GmbH & Co KG 0.8516992\n",
      "1 A Pharma GmbH B. Braun Melsungen Aktiengesellschaft -0.13551576\n",
      "1 A Pharma GmbH Zentiva Pharma GmbH 0.57503974\n",
      "1 A Pharma GmbH Galderma Laboratorium GmbH 0.253096\n",
      "ALIUD PHARMA GmbH Glenmark Arzneimittel GmbH 0.18123236\n",
      "ALIUD PHARMA GmbH Hexal Aktiengesellschaft 0.7506107\n",
      "ALIUD PHARMA GmbH ratiopharm GmbH 0.90746725\n",
      "ALIUD PHARMA GmbH 1 A Pharma GmbH 0.8360098\n",
      "ALIUD PHARMA GmbH ALIUD PHARMA GmbH 1.0\n",
      "ALIUD PHARMA GmbH Merck Serono GmbH 0.28469354\n",
      "ALIUD PHARMA GmbH Pfizer Pharma PFE GmbH 0.44092563\n",
      "ALIUD PHARMA GmbH PUREN Pharma GmbH & Co. KG 0.7472744\n",
      "ALIUD PHARMA GmbH TEVA GmbH 0.37639406\n",
      "ALIUD PHARMA GmbH STADAPHARM, Gesellschaft mit beschr�nkter Haftung 0.69498014\n",
      "ALIUD PHARMA GmbH Sanofi-Aventis Deutschland GmbH 0.35800752\n",
      "ALIUD PHARMA GmbH Aspen Pharma Trading Limited 0.67240006\n",
      "ALIUD PHARMA GmbH AbZ-Pharma GmbH - Gesch�ftsanschrift - 0.94574934\n",
      "ALIUD PHARMA GmbH Fresenius Kabi Deutschland GmbH 0.17558071\n",
      "ALIUD PHARMA GmbH Winthrop Arzneimittel GmbH 0.2814972\n",
      "ALIUD PHARMA GmbH Hennig Arzneimittel GmbH & Co KG 0.85981184\n",
      "ALIUD PHARMA GmbH B. Braun Melsungen Aktiengesellschaft 0.06748458\n",
      "ALIUD PHARMA GmbH Zentiva Pharma GmbH 0.76939124\n",
      "ALIUD PHARMA GmbH Galderma Laboratorium GmbH 0.0032999949\n",
      "Merck Serono GmbH Glenmark Arzneimittel GmbH 0.07991806\n",
      "Merck Serono GmbH Hexal Aktiengesellschaft 0.51035285\n",
      "Merck Serono GmbH ratiopharm GmbH 0.16953957\n",
      "Merck Serono GmbH 1 A Pharma GmbH 0.5273249\n",
      "Merck Serono GmbH ALIUD PHARMA GmbH 0.28469354\n",
      "Merck Serono GmbH Merck Serono GmbH 1.0\n",
      "Merck Serono GmbH Pfizer Pharma PFE GmbH -0.08970276\n",
      "Merck Serono GmbH PUREN Pharma GmbH & Co. KG 0.09435821\n",
      "Merck Serono GmbH TEVA GmbH -0.29594916\n",
      "Merck Serono GmbH STADAPHARM, Gesellschaft mit beschr�nkter Haftung 0.022815479\n",
      "Merck Serono GmbH Sanofi-Aventis Deutschland GmbH 0.511227\n",
      "Merck Serono GmbH Aspen Pharma Trading Limited 0.18979071\n",
      "Merck Serono GmbH AbZ-Pharma GmbH - Gesch�ftsanschrift - 0.15541273\n",
      "Merck Serono GmbH Fresenius Kabi Deutschland GmbH -0.0860948\n",
      "Merck Serono GmbH Winthrop Arzneimittel GmbH 0.7298214\n",
      "Merck Serono GmbH Hennig Arzneimittel GmbH & Co KG 0.4503513\n",
      "Merck Serono GmbH B. Braun Melsungen Aktiengesellschaft -0.24815978\n",
      "Merck Serono GmbH Zentiva Pharma GmbH 0.24356036\n",
      "Merck Serono GmbH Galderma Laboratorium GmbH 0.24124612\n",
      "Pfizer Pharma PFE GmbH Glenmark Arzneimittel GmbH -0.2392924\n",
      "Pfizer Pharma PFE GmbH Hexal Aktiengesellschaft 0.30416158\n",
      "Pfizer Pharma PFE GmbH ratiopharm GmbH 0.66414815\n",
      "Pfizer Pharma PFE GmbH 1 A Pharma GmbH 0.47298786\n",
      "Pfizer Pharma PFE GmbH ALIUD PHARMA GmbH 0.44092563\n",
      "Pfizer Pharma PFE GmbH Merck Serono GmbH -0.08970276\n",
      "Pfizer Pharma PFE GmbH Pfizer Pharma PFE GmbH 0.99999994\n",
      "Pfizer Pharma PFE GmbH PUREN Pharma GmbH & Co. KG 0.14470595\n",
      "Pfizer Pharma PFE GmbH TEVA GmbH 0.569186\n",
      "Pfizer Pharma PFE GmbH STADAPHARM, Gesellschaft mit beschr�nkter Haftung 0.43056196\n",
      "Pfizer Pharma PFE GmbH Sanofi-Aventis Deutschland GmbH 0.25740084\n",
      "Pfizer Pharma PFE GmbH Aspen Pharma Trading Limited 0.5861394\n",
      "Pfizer Pharma PFE GmbH AbZ-Pharma GmbH - Gesch�ftsanschrift - 0.42651293\n",
      "Pfizer Pharma PFE GmbH Fresenius Kabi Deutschland GmbH 0.046112593\n",
      "Pfizer Pharma PFE GmbH Winthrop Arzneimittel GmbH 0.007902086\n",
      "Pfizer Pharma PFE GmbH Hennig Arzneimittel GmbH & Co KG 0.38263685\n",
      "Pfizer Pharma PFE GmbH B. Braun Melsungen Aktiengesellschaft 0.47611758\n",
      "Pfizer Pharma PFE GmbH Zentiva Pharma GmbH 0.13738376\n",
      "Pfizer Pharma PFE GmbH Galderma Laboratorium GmbH 0.24938858\n",
      "PUREN Pharma GmbH & Co. KG Glenmark Arzneimittel GmbH 0.6958099\n",
      "PUREN Pharma GmbH & Co. KG Hexal Aktiengesellschaft 0.71300715\n",
      "PUREN Pharma GmbH & Co. KG ratiopharm GmbH 0.6253676\n",
      "PUREN Pharma GmbH & Co. KG 1 A Pharma GmbH 0.44972456\n",
      "PUREN Pharma GmbH & Co. KG ALIUD PHARMA GmbH 0.7472744\n",
      "PUREN Pharma GmbH & Co. KG Merck Serono GmbH 0.09435821\n",
      "PUREN Pharma GmbH & Co. KG Pfizer Pharma PFE GmbH 0.14470595\n",
      "PUREN Pharma GmbH & Co. KG PUREN Pharma GmbH & Co. KG 1.0\n",
      "PUREN Pharma GmbH & Co. KG TEVA GmbH 0.30572096\n",
      "PUREN Pharma GmbH & Co. KG STADAPHARM, Gesellschaft mit beschr�nkter Haftung 0.57241124\n",
      "PUREN Pharma GmbH & Co. KG Sanofi-Aventis Deutschland GmbH -0.17775232\n",
      "PUREN Pharma GmbH & Co. KG Aspen Pharma Trading Limited 0.22161989\n",
      "PUREN Pharma GmbH & Co. KG AbZ-Pharma GmbH - Gesch�ftsanschrift - 0.72975045\n",
      "PUREN Pharma GmbH & Co. KG Fresenius Kabi Deutschland GmbH 0.31485197\n",
      "PUREN Pharma GmbH & Co. KG Winthrop Arzneimittel GmbH 0.09184843\n",
      "PUREN Pharma GmbH & Co. KG Hennig Arzneimittel GmbH & Co KG 0.6394475\n",
      "PUREN Pharma GmbH & Co. KG B. Braun Melsungen Aktiengesellschaft -0.107997045\n",
      "PUREN Pharma GmbH & Co. KG Zentiva Pharma GmbH 0.91575766\n",
      "PUREN Pharma GmbH & Co. KG Galderma Laboratorium GmbH -0.08837409\n",
      "TEVA GmbH Glenmark Arzneimittel GmbH 0.019192358\n",
      "TEVA GmbH Hexal Aktiengesellschaft 0.2517775\n",
      "TEVA GmbH ratiopharm GmbH 0.4602516\n",
      "TEVA GmbH 1 A Pharma GmbH 0.23127756\n",
      "TEVA GmbH ALIUD PHARMA GmbH 0.37639406\n",
      "TEVA GmbH Merck Serono GmbH -0.29594916\n",
      "TEVA GmbH Pfizer Pharma PFE GmbH 0.569186\n",
      "TEVA GmbH PUREN Pharma GmbH & Co. KG 0.30572096\n",
      "TEVA GmbH TEVA GmbH 1.0000001\n",
      "TEVA GmbH STADAPHARM, Gesellschaft mit beschr�nkter Haftung 0.66495216\n",
      "TEVA GmbH Sanofi-Aventis Deutschland GmbH -0.35119325\n",
      "TEVA GmbH Aspen Pharma Trading Limited 0.5246975\n",
      "TEVA GmbH AbZ-Pharma GmbH - Gesch�ftsanschrift - 0.35387957\n",
      "TEVA GmbH Fresenius Kabi Deutschland GmbH -0.13596071\n",
      "TEVA GmbH Winthrop Arzneimittel GmbH -0.18601409\n",
      "TEVA GmbH Hennig Arzneimittel GmbH & Co KG 0.46496633\n",
      "TEVA GmbH B. Braun Melsungen Aktiengesellschaft 0.41493145\n",
      "TEVA GmbH Zentiva Pharma GmbH 0.28648347\n",
      "TEVA GmbH Galderma Laboratorium GmbH -0.51571804\n",
      "STADAPHARM, Gesellschaft mit beschr�nkter Haftung Glenmark Arzneimittel GmbH 0.16226988\n",
      "STADAPHARM, Gesellschaft mit beschr�nkter Haftung Hexal Aktiengesellschaft 0.53652644\n",
      "STADAPHARM, Gesellschaft mit beschr�nkter Haftung ratiopharm GmbH 0.60583836\n",
      "STADAPHARM, Gesellschaft mit beschr�nkter Haftung 1 A Pharma GmbH 0.66247225\n",
      "STADAPHARM, Gesellschaft mit beschr�nkter Haftung ALIUD PHARMA GmbH 0.69498014\n",
      "STADAPHARM, Gesellschaft mit beschr�nkter Haftung Merck Serono GmbH 0.022815479\n",
      "STADAPHARM, Gesellschaft mit beschr�nkter Haftung Pfizer Pharma PFE GmbH 0.43056196\n",
      "STADAPHARM, Gesellschaft mit beschr�nkter Haftung PUREN Pharma GmbH & Co. KG 0.57241124\n",
      "STADAPHARM, Gesellschaft mit beschr�nkter Haftung TEVA GmbH 0.66495216\n",
      "STADAPHARM, Gesellschaft mit beschr�nkter Haftung STADAPHARM, Gesellschaft mit beschr�nkter Haftung 1.0000001\n",
      "STADAPHARM, Gesellschaft mit beschr�nkter Haftung Sanofi-Aventis Deutschland GmbH -0.09095605\n",
      "STADAPHARM, Gesellschaft mit beschr�nkter Haftung Aspen Pharma Trading Limited 0.35845053\n",
      "STADAPHARM, Gesellschaft mit beschr�nkter Haftung AbZ-Pharma GmbH - Gesch�ftsanschrift - 0.76283395\n",
      "STADAPHARM, Gesellschaft mit beschr�nkter Haftung Fresenius Kabi Deutschland GmbH -0.25048304\n",
      "STADAPHARM, Gesellschaft mit beschr�nkter Haftung Winthrop Arzneimittel GmbH 0.0022379016\n",
      "STADAPHARM, Gesellschaft mit beschr�nkter Haftung Hennig Arzneimittel GmbH & Co KG 0.870331\n",
      "STADAPHARM, Gesellschaft mit beschr�nkter Haftung B. Braun Melsungen Aktiengesellschaft -0.058511015\n",
      "STADAPHARM, Gesellschaft mit beschr�nkter Haftung Zentiva Pharma GmbH 0.59315383\n",
      "STADAPHARM, Gesellschaft mit beschr�nkter Haftung Galderma Laboratorium GmbH -0.036576897\n",
      "Sanofi-Aventis Deutschland GmbH Glenmark Arzneimittel GmbH -0.43104357\n",
      "Sanofi-Aventis Deutschland GmbH Hexal Aktiengesellschaft 0.31854466\n",
      "Sanofi-Aventis Deutschland GmbH ratiopharm GmbH 0.34067836\n",
      "Sanofi-Aventis Deutschland GmbH 1 A Pharma GmbH 0.4997185\n",
      "Sanofi-Aventis Deutschland GmbH ALIUD PHARMA GmbH 0.35800752\n",
      "Sanofi-Aventis Deutschland GmbH Merck Serono GmbH 0.511227\n",
      "Sanofi-Aventis Deutschland GmbH Pfizer Pharma PFE GmbH 0.25740084\n",
      "Sanofi-Aventis Deutschland GmbH PUREN Pharma GmbH & Co. KG -0.17775232\n",
      "Sanofi-Aventis Deutschland GmbH TEVA GmbH -0.35119325\n",
      "Sanofi-Aventis Deutschland GmbH STADAPHARM, Gesellschaft mit beschr�nkter Haftung -0.09095605\n",
      "Sanofi-Aventis Deutschland GmbH Sanofi-Aventis Deutschland GmbH 1.0\n",
      "Sanofi-Aventis Deutschland GmbH Aspen Pharma Trading Limited 0.36664453\n",
      "Sanofi-Aventis Deutschland GmbH AbZ-Pharma GmbH - Gesch�ftsanschrift - 0.31953\n",
      "Sanofi-Aventis Deutschland GmbH Fresenius Kabi Deutschland GmbH 0.2606158\n",
      "Sanofi-Aventis Deutschland GmbH Winthrop Arzneimittel GmbH 0.38433224\n",
      "Sanofi-Aventis Deutschland GmbH Hennig Arzneimittel GmbH & Co KG 0.2536082\n",
      "Sanofi-Aventis Deutschland GmbH B. Braun Melsungen Aktiengesellschaft 0.24055561\n",
      "Sanofi-Aventis Deutschland GmbH Zentiva Pharma GmbH -0.02968342\n",
      "Sanofi-Aventis Deutschland GmbH Galderma Laboratorium GmbH 0.5300626\n",
      "Aspen Pharma Trading Limited Glenmark Arzneimittel GmbH -0.3225652\n",
      "Aspen Pharma Trading Limited Hexal Aktiengesellschaft 0.31436175\n",
      "Aspen Pharma Trading Limited ratiopharm GmbH 0.72406495\n",
      "Aspen Pharma Trading Limited 1 A Pharma GmbH 0.58188635\n",
      "Aspen Pharma Trading Limited ALIUD PHARMA GmbH 0.67240006\n",
      "Aspen Pharma Trading Limited Merck Serono GmbH 0.18979071\n",
      "Aspen Pharma Trading Limited Pfizer Pharma PFE GmbH 0.5861394\n",
      "Aspen Pharma Trading Limited PUREN Pharma GmbH & Co. KG 0.22161989\n",
      "Aspen Pharma Trading Limited TEVA GmbH 0.5246975\n",
      "Aspen Pharma Trading Limited STADAPHARM, Gesellschaft mit beschr�nkter Haftung 0.35845053\n",
      "Aspen Pharma Trading Limited Sanofi-Aventis Deutschland GmbH 0.36664453\n",
      "Aspen Pharma Trading Limited Aspen Pharma Trading Limited 1.0\n",
      "Aspen Pharma Trading Limited AbZ-Pharma GmbH - Gesch�ftsanschrift - 0.4903061\n",
      "Aspen Pharma Trading Limited Fresenius Kabi Deutschland GmbH 0.047951117\n",
      "Aspen Pharma Trading Limited Winthrop Arzneimittel GmbH 0.1809622\n",
      "Aspen Pharma Trading Limited Hennig Arzneimittel GmbH & Co KG 0.49733517\n",
      "Aspen Pharma Trading Limited B. Braun Melsungen Aktiengesellschaft 0.4752441\n",
      "Aspen Pharma Trading Limited Zentiva Pharma GmbH 0.28666213\n",
      "Aspen Pharma Trading Limited Galderma Laboratorium GmbH -0.27836338\n",
      "AbZ-Pharma GmbH - Gesch�ftsanschrift - Glenmark Arzneimittel GmbH 0.18049264\n",
      "AbZ-Pharma GmbH - Gesch�ftsanschrift - Hexal Aktiengesellschaft 0.68324995\n",
      "AbZ-Pharma GmbH - Gesch�ftsanschrift - ratiopharm GmbH 0.869409\n",
      "AbZ-Pharma GmbH - Gesch�ftsanschrift - 1 A Pharma GmbH 0.7478163\n",
      "AbZ-Pharma GmbH - Gesch�ftsanschrift - ALIUD PHARMA GmbH 0.94574934\n",
      "AbZ-Pharma GmbH - Gesch�ftsanschrift - Merck Serono GmbH 0.15541273\n",
      "AbZ-Pharma GmbH - Gesch�ftsanschrift - Pfizer Pharma PFE GmbH 0.42651293\n",
      "AbZ-Pharma GmbH - Gesch�ftsanschrift - PUREN Pharma GmbH & Co. KG 0.72975045\n",
      "AbZ-Pharma GmbH - Gesch�ftsanschrift - TEVA GmbH 0.35387957\n",
      "AbZ-Pharma GmbH - Gesch�ftsanschrift - STADAPHARM, Gesellschaft mit beschr�nkter Haftung 0.76283395\n",
      "AbZ-Pharma GmbH - Gesch�ftsanschrift - Sanofi-Aventis Deutschland GmbH 0.31953\n",
      "AbZ-Pharma GmbH - Gesch�ftsanschrift - Aspen Pharma Trading Limited 0.4903061\n",
      "AbZ-Pharma GmbH - Gesch�ftsanschrift - AbZ-Pharma GmbH - Gesch�ftsanschrift - 1.0000001\n",
      "AbZ-Pharma GmbH - Gesch�ftsanschrift - Fresenius Kabi Deutschland GmbH 0.20632376\n",
      "AbZ-Pharma GmbH - Gesch�ftsanschrift - Winthrop Arzneimittel GmbH 0.2717513\n",
      "AbZ-Pharma GmbH - Gesch�ftsanschrift - Hennig Arzneimittel GmbH & Co KG 0.8490449\n",
      "AbZ-Pharma GmbH - Gesch�ftsanschrift - B. Braun Melsungen Aktiengesellschaft 0.012922797\n",
      "AbZ-Pharma GmbH - Gesch�ftsanschrift - Zentiva Pharma GmbH 0.7102547\n",
      "AbZ-Pharma GmbH - Gesch�ftsanschrift - Galderma Laboratorium GmbH 0.105874054\n",
      "Fresenius Kabi Deutschland GmbH Glenmark Arzneimittel GmbH 0.111596145\n",
      "Fresenius Kabi Deutschland GmbH Hexal Aktiengesellschaft 0.28813368\n",
      "Fresenius Kabi Deutschland GmbH ratiopharm GmbH 0.24994718\n",
      "Fresenius Kabi Deutschland GmbH 1 A Pharma GmbH -0.21622388\n",
      "Fresenius Kabi Deutschland GmbH ALIUD PHARMA GmbH 0.17558071\n",
      "Fresenius Kabi Deutschland GmbH Merck Serono GmbH -0.0860948\n",
      "Fresenius Kabi Deutschland GmbH Pfizer Pharma PFE GmbH 0.046112593\n",
      "Fresenius Kabi Deutschland GmbH PUREN Pharma GmbH & Co. KG 0.31485197\n",
      "Fresenius Kabi Deutschland GmbH TEVA GmbH -0.13596071\n",
      "Fresenius Kabi Deutschland GmbH STADAPHARM, Gesellschaft mit beschr�nkter Haftung -0.25048304\n",
      "Fresenius Kabi Deutschland GmbH Sanofi-Aventis Deutschland GmbH 0.2606158\n",
      "Fresenius Kabi Deutschland GmbH Aspen Pharma Trading Limited 0.047951117\n",
      "Fresenius Kabi Deutschland GmbH AbZ-Pharma GmbH - Gesch�ftsanschrift - 0.20632376\n",
      "Fresenius Kabi Deutschland GmbH Fresenius Kabi Deutschland GmbH 1.0\n",
      "Fresenius Kabi Deutschland GmbH Winthrop Arzneimittel GmbH -0.033450253\n",
      "Fresenius Kabi Deutschland GmbH Hennig Arzneimittel GmbH & Co KG -0.071755506\n",
      "Fresenius Kabi Deutschland GmbH B. Braun Melsungen Aktiengesellschaft 0.5406569\n",
      "Fresenius Kabi Deutschland GmbH Zentiva Pharma GmbH 0.16764915\n",
      "Fresenius Kabi Deutschland GmbH Galderma Laboratorium GmbH 0.09794411\n",
      "Winthrop Arzneimittel GmbH Glenmark Arzneimittel GmbH 0.08207281\n",
      "Winthrop Arzneimittel GmbH Hexal Aktiengesellschaft 0.23360117\n",
      "Winthrop Arzneimittel GmbH ratiopharm GmbH 0.28254926\n",
      "Winthrop Arzneimittel GmbH 1 A Pharma GmbH 0.32376835\n",
      "Winthrop Arzneimittel GmbH ALIUD PHARMA GmbH 0.2814972\n",
      "Winthrop Arzneimittel GmbH Merck Serono GmbH 0.7298214\n",
      "Winthrop Arzneimittel GmbH Pfizer Pharma PFE GmbH 0.007902086\n",
      "Winthrop Arzneimittel GmbH PUREN Pharma GmbH & Co. KG 0.09184843\n",
      "Winthrop Arzneimittel GmbH TEVA GmbH -0.18601409\n",
      "Winthrop Arzneimittel GmbH STADAPHARM, Gesellschaft mit beschr�nkter Haftung 0.0022379016\n",
      "Winthrop Arzneimittel GmbH Sanofi-Aventis Deutschland GmbH 0.38433224\n",
      "Winthrop Arzneimittel GmbH Aspen Pharma Trading Limited 0.1809622\n",
      "Winthrop Arzneimittel GmbH AbZ-Pharma GmbH - Gesch�ftsanschrift - 0.2717513\n",
      "Winthrop Arzneimittel GmbH Fresenius Kabi Deutschland GmbH -0.033450253\n",
      "Winthrop Arzneimittel GmbH Winthrop Arzneimittel GmbH 1.0\n",
      "Winthrop Arzneimittel GmbH Hennig Arzneimittel GmbH & Co KG 0.33296093\n",
      "Winthrop Arzneimittel GmbH B. Braun Melsungen Aktiengesellschaft -0.27863744\n",
      "Winthrop Arzneimittel GmbH Zentiva Pharma GmbH 0.14139788\n",
      "Winthrop Arzneimittel GmbH Galderma Laboratorium GmbH 0.078083925\n",
      "Hennig Arzneimittel GmbH & Co KG Glenmark Arzneimittel GmbH 0.20558447\n",
      "Hennig Arzneimittel GmbH & Co KG Hexal Aktiengesellschaft 0.7995229\n",
      "Hennig Arzneimittel GmbH & Co KG ratiopharm GmbH 0.7247331\n",
      "Hennig Arzneimittel GmbH & Co KG 1 A Pharma GmbH 0.8516992\n",
      "Hennig Arzneimittel GmbH & Co KG ALIUD PHARMA GmbH 0.85981184\n",
      "Hennig Arzneimittel GmbH & Co KG Merck Serono GmbH 0.4503513\n",
      "Hennig Arzneimittel GmbH & Co KG Pfizer Pharma PFE GmbH 0.38263685\n",
      "Hennig Arzneimittel GmbH & Co KG PUREN Pharma GmbH & Co. KG 0.6394475\n",
      "Hennig Arzneimittel GmbH & Co KG TEVA GmbH 0.46496633\n",
      "Hennig Arzneimittel GmbH & Co KG STADAPHARM, Gesellschaft mit beschr�nkter Haftung 0.870331\n",
      "Hennig Arzneimittel GmbH & Co KG Sanofi-Aventis Deutschland GmbH 0.2536082\n",
      "Hennig Arzneimittel GmbH & Co KG Aspen Pharma Trading Limited 0.49733517\n",
      "Hennig Arzneimittel GmbH & Co KG AbZ-Pharma GmbH - Gesch�ftsanschrift - 0.8490449\n",
      "Hennig Arzneimittel GmbH & Co KG Fresenius Kabi Deutschland GmbH -0.071755506\n",
      "Hennig Arzneimittel GmbH & Co KG Winthrop Arzneimittel GmbH 0.33296093\n",
      "Hennig Arzneimittel GmbH & Co KG Hennig Arzneimittel GmbH & Co KG 1.0000001\n",
      "Hennig Arzneimittel GmbH & Co KG B. Braun Melsungen Aktiengesellschaft -0.03197953\n",
      "Hennig Arzneimittel GmbH & Co KG Zentiva Pharma GmbH 0.72255266\n",
      "Hennig Arzneimittel GmbH & Co KG Galderma Laboratorium GmbH 0.05892048\n",
      "B. Braun Melsungen Aktiengesellschaft Glenmark Arzneimittel GmbH -0.29888824\n",
      "B. Braun Melsungen Aktiengesellschaft Hexal Aktiengesellschaft 0.073389545\n",
      "B. Braun Melsungen Aktiengesellschaft ratiopharm GmbH 0.1790618\n",
      "B. Braun Melsungen Aktiengesellschaft 1 A Pharma GmbH -0.13551576\n",
      "B. Braun Melsungen Aktiengesellschaft ALIUD PHARMA GmbH 0.06748458\n",
      "B. Braun Melsungen Aktiengesellschaft Merck Serono GmbH -0.24815978\n",
      "B. Braun Melsungen Aktiengesellschaft Pfizer Pharma PFE GmbH 0.47611758\n",
      "B. Braun Melsungen Aktiengesellschaft PUREN Pharma GmbH & Co. KG -0.107997045\n",
      "B. Braun Melsungen Aktiengesellschaft TEVA GmbH 0.41493145\n",
      "B. Braun Melsungen Aktiengesellschaft STADAPHARM, Gesellschaft mit beschr�nkter Haftung -0.058511015\n",
      "B. Braun Melsungen Aktiengesellschaft Sanofi-Aventis Deutschland GmbH 0.24055561\n",
      "B. Braun Melsungen Aktiengesellschaft Aspen Pharma Trading Limited 0.4752441\n",
      "B. Braun Melsungen Aktiengesellschaft AbZ-Pharma GmbH - Gesch�ftsanschrift - 0.012922797\n",
      "B. Braun Melsungen Aktiengesellschaft Fresenius Kabi Deutschland GmbH 0.5406569\n",
      "B. Braun Melsungen Aktiengesellschaft Winthrop Arzneimittel GmbH -0.27863744\n",
      "B. Braun Melsungen Aktiengesellschaft Hennig Arzneimittel GmbH & Co KG -0.03197953\n",
      "B. Braun Melsungen Aktiengesellschaft B. Braun Melsungen Aktiengesellschaft 1.0000001\n",
      "B. Braun Melsungen Aktiengesellschaft Zentiva Pharma GmbH -0.057942174\n",
      "B. Braun Melsungen Aktiengesellschaft Galderma Laboratorium GmbH -0.09659086\n",
      "Zentiva Pharma GmbH Glenmark Arzneimittel GmbH 0.732257\n",
      "Zentiva Pharma GmbH Hexal Aktiengesellschaft 0.7658719\n",
      "Zentiva Pharma GmbH ratiopharm GmbH 0.53298\n",
      "Zentiva Pharma GmbH 1 A Pharma GmbH 0.57503974\n",
      "Zentiva Pharma GmbH ALIUD PHARMA GmbH 0.76939124\n",
      "Zentiva Pharma GmbH Merck Serono GmbH 0.24356036\n",
      "Zentiva Pharma GmbH Pfizer Pharma PFE GmbH 0.13738376\n",
      "Zentiva Pharma GmbH PUREN Pharma GmbH & Co. KG 0.91575766\n",
      "Zentiva Pharma GmbH TEVA GmbH 0.28648347\n",
      "Zentiva Pharma GmbH STADAPHARM, Gesellschaft mit beschr�nkter Haftung 0.59315383\n",
      "Zentiva Pharma GmbH Sanofi-Aventis Deutschland GmbH -0.02968342\n",
      "Zentiva Pharma GmbH Aspen Pharma Trading Limited 0.28666213\n",
      "Zentiva Pharma GmbH AbZ-Pharma GmbH - Gesch�ftsanschrift - 0.7102547\n",
      "Zentiva Pharma GmbH Fresenius Kabi Deutschland GmbH 0.16764915\n",
      "Zentiva Pharma GmbH Winthrop Arzneimittel GmbH 0.14139788\n",
      "Zentiva Pharma GmbH Hennig Arzneimittel GmbH & Co KG 0.72255266\n",
      "Zentiva Pharma GmbH B. Braun Melsungen Aktiengesellschaft -0.057942174\n",
      "Zentiva Pharma GmbH Zentiva Pharma GmbH 1.0000001\n",
      "Zentiva Pharma GmbH Galderma Laboratorium GmbH -0.009461353\n",
      "Galderma Laboratorium GmbH Glenmark Arzneimittel GmbH -0.041686743\n",
      "Galderma Laboratorium GmbH Hexal Aktiengesellschaft 0.16887861\n",
      "Galderma Laboratorium GmbH ratiopharm GmbH -0.0017017286\n",
      "Galderma Laboratorium GmbH 1 A Pharma GmbH 0.253096\n",
      "Galderma Laboratorium GmbH ALIUD PHARMA GmbH 0.0032999949\n",
      "Galderma Laboratorium GmbH Merck Serono GmbH 0.24124612\n",
      "Galderma Laboratorium GmbH Pfizer Pharma PFE GmbH 0.24938858\n",
      "Galderma Laboratorium GmbH PUREN Pharma GmbH & Co. KG -0.08837409\n",
      "Galderma Laboratorium GmbH TEVA GmbH -0.51571804\n",
      "Galderma Laboratorium GmbH STADAPHARM, Gesellschaft mit beschr�nkter Haftung -0.036576897\n",
      "Galderma Laboratorium GmbH Sanofi-Aventis Deutschland GmbH 0.5300626\n",
      "Galderma Laboratorium GmbH Aspen Pharma Trading Limited -0.27836338\n",
      "Galderma Laboratorium GmbH AbZ-Pharma GmbH - Gesch�ftsanschrift - 0.105874054\n",
      "Galderma Laboratorium GmbH Fresenius Kabi Deutschland GmbH 0.09794411\n",
      "Galderma Laboratorium GmbH Winthrop Arzneimittel GmbH 0.078083925\n",
      "Galderma Laboratorium GmbH Hennig Arzneimittel GmbH & Co KG 0.05892048\n",
      "Galderma Laboratorium GmbH B. Braun Melsungen Aktiengesellschaft -0.09659086\n",
      "Galderma Laboratorium GmbH Zentiva Pharma GmbH -0.009461353\n",
      "Galderma Laboratorium GmbH Galderma Laboratorium GmbH 0.99999994\n"
     ]
    }
   ],
   "source": [
    "for i in range(len(names_comp)):\n",
    "    for j in range(len(names_comp)):\n",
    "        print(names_comp[i], names_comp[j], \n",
    "              cosine(node_embeddings[names_comp[i]], node_embeddings[names_comp[j]]))"
   ]
  },
  {
   "cell_type": "code",
   "execution_count": null,
   "id": "873be315",
   "metadata": {},
   "outputs": [],
   "source": []
  }
 ],
 "metadata": {
  "kernelspec": {
   "display_name": "Python 3",
   "language": "python",
   "name": "python3"
  },
  "language_info": {
   "codemirror_mode": {
    "name": "ipython",
    "version": 3
   },
   "file_extension": ".py",
   "mimetype": "text/x-python",
   "name": "python",
   "nbconvert_exporter": "python",
   "pygments_lexer": "ipython3",
   "version": "3.8.10"
  }
 },
 "nbformat": 4,
 "nbformat_minor": 5
}
