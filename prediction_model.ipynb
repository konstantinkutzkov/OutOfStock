{
 "cells": [
  {
   "cell_type": "code",
   "execution_count": 54,
   "id": "c29f36ba",
   "metadata": {},
   "outputs": [],
   "source": [
    "import numpy as np\n",
    "import pandas as pd\n",
    "import datetime as dt\n",
    "import matplotlib.pyplot as plt\n",
    "from collections import Counter\n",
    "import seaborn as sns\n",
    "\n",
    "import sklearn\n",
    "from sklearn import tree\n",
    "from sklearn.model_selection import GridSearchCV\n",
    "from sklearn.linear_model import LogisticRegression\n",
    "from sklearn.model_selection import cross_val_score\n",
    "from sklearn import metrics\n",
    "from sklearn.decomposition import PCA\n",
    "\n",
    "from scipy.stats import pearsonr\n",
    "\n",
    "from scipy.stats import entropy"
   ]
  },
  {
   "cell_type": "code",
   "execution_count": 2,
   "id": "ec2437af",
   "metadata": {},
   "outputs": [],
   "source": [
    "path = \"/home/koki/Desktop/Data/OutOfStock/preprocessed.csv\"\n",
    "df = pd.read_csv(path)"
   ]
  },
  {
   "cell_type": "code",
   "execution_count": 3,
   "id": "a8a0c710",
   "metadata": {},
   "outputs": [
    {
     "data": {
      "text/html": [
       "<div>\n",
       "<style scoped>\n",
       "    .dataframe tbody tr th:only-of-type {\n",
       "        vertical-align: middle;\n",
       "    }\n",
       "\n",
       "    .dataframe tbody tr th {\n",
       "        vertical-align: top;\n",
       "    }\n",
       "\n",
       "    .dataframe thead th {\n",
       "        text-align: right;\n",
       "    }\n",
       "</style>\n",
       "<table border=\"1\" class=\"dataframe\">\n",
       "  <thead>\n",
       "    <tr style=\"text-align: right;\">\n",
       "      <th></th>\n",
       "      <th>Zulassungsinhaber</th>\n",
       "      <th>wirkstoff</th>\n",
       "      <th>Beginn</th>\n",
       "      <th>Ende</th>\n",
       "      <th>days</th>\n",
       "      <th>months</th>\n",
       "      <th>years</th>\n",
       "    </tr>\n",
       "  </thead>\n",
       "  <tbody>\n",
       "    <tr>\n",
       "      <th>0</th>\n",
       "      <td>AstraZeneca GmbH</td>\n",
       "      <td>['Goserelinacetat']</td>\n",
       "      <td>2021-11-11</td>\n",
       "      <td>2022-01-24</td>\n",
       "      <td>74</td>\n",
       "      <td>Counter({'Nov': 1, 'Dec': 1, 'Jan': 1})</td>\n",
       "      <td>{'2021': 60, '2022': 30}</td>\n",
       "    </tr>\n",
       "    <tr>\n",
       "      <th>1</th>\n",
       "      <td>Hexal Aktiengesellschaft</td>\n",
       "      <td>['Octreotidacetat']</td>\n",
       "      <td>2021-09-03</td>\n",
       "      <td>2022-01-29</td>\n",
       "      <td>148</td>\n",
       "      <td>Counter({'Sep': 1, 'Oct': 1, 'Nov': 1, 'Dec': ...</td>\n",
       "      <td>{'2021': 121, '2022': 30}</td>\n",
       "    </tr>\n",
       "    <tr>\n",
       "      <th>2</th>\n",
       "      <td>Hexal Aktiengesellschaft</td>\n",
       "      <td>['Octreotidacetat']</td>\n",
       "      <td>2021-10-29</td>\n",
       "      <td>2022-01-29</td>\n",
       "      <td>92</td>\n",
       "      <td>Counter({'Oct': 1, 'Nov': 1, 'Dec': 1, 'Jan': 1})</td>\n",
       "      <td>{'2021': 91, '2022': 30}</td>\n",
       "    </tr>\n",
       "    <tr>\n",
       "      <th>3</th>\n",
       "      <td>Leo Pharma A/S Beiname: Leo Pharmaceutical Pro...</td>\n",
       "      <td>['Natriumfusidat']</td>\n",
       "      <td>2021-10-11</td>\n",
       "      <td>2021-12-14</td>\n",
       "      <td>64</td>\n",
       "      <td>Counter({'Oct': 1, 'Nov': 1, 'Dec': 1})</td>\n",
       "      <td>{'2021': 91}</td>\n",
       "    </tr>\n",
       "    <tr>\n",
       "      <th>4</th>\n",
       "      <td>Leo Pharma A/S Beiname: Leo Pharmaceutical Pro...</td>\n",
       "      <td>['Natriumfusidat']</td>\n",
       "      <td>2021-10-18</td>\n",
       "      <td>2021-10-19</td>\n",
       "      <td>1</td>\n",
       "      <td>Counter({'Oct': 1})</td>\n",
       "      <td>{'2021': 30}</td>\n",
       "    </tr>\n",
       "  </tbody>\n",
       "</table>\n",
       "</div>"
      ],
      "text/plain": [
       "                                   Zulassungsinhaber            wirkstoff  \\\n",
       "0                                   AstraZeneca GmbH  ['Goserelinacetat']   \n",
       "1                           Hexal Aktiengesellschaft  ['Octreotidacetat']   \n",
       "2                           Hexal Aktiengesellschaft  ['Octreotidacetat']   \n",
       "3  Leo Pharma A/S Beiname: Leo Pharmaceutical Pro...   ['Natriumfusidat']   \n",
       "4  Leo Pharma A/S Beiname: Leo Pharmaceutical Pro...   ['Natriumfusidat']   \n",
       "\n",
       "       Beginn        Ende  days  \\\n",
       "0  2021-11-11  2022-01-24    74   \n",
       "1  2021-09-03  2022-01-29   148   \n",
       "2  2021-10-29  2022-01-29    92   \n",
       "3  2021-10-11  2021-12-14    64   \n",
       "4  2021-10-18  2021-10-19     1   \n",
       "\n",
       "                                              months  \\\n",
       "0            Counter({'Nov': 1, 'Dec': 1, 'Jan': 1})   \n",
       "1  Counter({'Sep': 1, 'Oct': 1, 'Nov': 1, 'Dec': ...   \n",
       "2  Counter({'Oct': 1, 'Nov': 1, 'Dec': 1, 'Jan': 1})   \n",
       "3            Counter({'Oct': 1, 'Nov': 1, 'Dec': 1})   \n",
       "4                                Counter({'Oct': 1})   \n",
       "\n",
       "                       years  \n",
       "0   {'2021': 60, '2022': 30}  \n",
       "1  {'2021': 121, '2022': 30}  \n",
       "2   {'2021': 91, '2022': 30}  \n",
       "3               {'2021': 91}  \n",
       "4               {'2021': 30}  "
      ]
     },
     "execution_count": 3,
     "metadata": {},
     "output_type": "execute_result"
    }
   ],
   "source": [
    "df.head()"
   ]
  },
  {
   "cell_type": "code",
   "execution_count": 4,
   "id": "d062321b",
   "metadata": {},
   "outputs": [],
   "source": [
    "def get_list(x):\n",
    "    x = x[1:-1]\n",
    "    xspl = x.split(',')\n",
    "    res = []\n",
    "    for v in xspl:\n",
    "        res.append(v.strip('\\' '))\n",
    "    return res"
   ]
  },
  {
   "cell_type": "code",
   "execution_count": null,
   "id": "08fb1e54",
   "metadata": {},
   "outputs": [],
   "source": []
  },
  {
   "cell_type": "code",
   "execution_count": 5,
   "id": "30f828a3",
   "metadata": {},
   "outputs": [],
   "source": [
    "df['wirkstoff'] = df['wirkstoff'].apply(lambda x: get_list(x))"
   ]
  },
  {
   "cell_type": "code",
   "execution_count": 6,
   "id": "19316bd3",
   "metadata": {},
   "outputs": [
    {
     "data": {
      "text/plain": [
       "(1581, 7)"
      ]
     },
     "execution_count": 6,
     "metadata": {},
     "output_type": "execute_result"
    }
   ],
   "source": [
    "df.shape"
   ]
  },
  {
   "cell_type": "code",
   "execution_count": 7,
   "id": "8376c66b",
   "metadata": {},
   "outputs": [],
   "source": [
    "df['Beginn'] = pd.to_datetime(df['Beginn'], format='%Y-%m-%d')\n",
    "df['Ende'] = pd.to_datetime(df['Ende'], format='%Y-%m-%d')"
   ]
  },
  {
   "cell_type": "code",
   "execution_count": 8,
   "id": "c00e5273",
   "metadata": {},
   "outputs": [],
   "source": [
    "df_train = df[df['Beginn'] < dt.datetime(2020,7,1)]\n",
    "df_test = df[df['Beginn'] >= dt.datetime(2020,7,1)]"
   ]
  },
  {
   "cell_type": "code",
   "execution_count": 9,
   "id": "f3893af1",
   "metadata": {},
   "outputs": [
    {
     "data": {
      "text/plain": [
       "((1118, 7), (463, 7))"
      ]
     },
     "execution_count": 9,
     "metadata": {},
     "output_type": "execute_result"
    }
   ],
   "source": [
    "df_train.shape, df_test.shape"
   ]
  },
  {
   "cell_type": "code",
   "execution_count": 10,
   "id": "5069ddc4",
   "metadata": {},
   "outputs": [],
   "source": [
    "def get_wirkstoff_distr(df, top):\n",
    "    vals = {}\n",
    "    for ws, days in zip(df['wirkstoff'], df['days']):\n",
    "        for w in ws:\n",
    "            vals.setdefault(w, 0)\n",
    "            vals[w] += 1 #days #df['Zulassungsinhaber'].nunique()\n",
    "    sumvals = sum(vals.values())\n",
    "    top_vals = sorted([(v,k) for k, v in vals.items()], reverse=True)[:top]\n",
    "    top_ingredients = [v[1] for v in top_vals]\n",
    "    return top_ingredients"
   ]
  },
  {
   "cell_type": "code",
   "execution_count": 11,
   "id": "4834a862",
   "metadata": {},
   "outputs": [],
   "source": [
    "def get_wirkstoff_distr_per_company(df, company, top_ingredients, top = 50, normalize = True):\n",
    "    vals = {}\n",
    "    df_comp = df[df[\"Zulassungsinhaber\"]==company]\n",
    "    for ws, days in zip(df_comp['wirkstoff'], df_comp['days']):\n",
    "        for w in ws:\n",
    "            vals.setdefault(w, 0)\n",
    "            denom = 1\n",
    "            if normalize:\n",
    "                denom = sum(df_comp['days'])\n",
    "            vals[w] += days/denom #df['Zulassungsinhaber'].nunique()\n",
    "    distr_vals = [vals.get(w, 0) for w in top_ingredients[:top]]\n",
    "    return distr_vals "
   ]
  },
  {
   "cell_type": "code",
   "execution_count": 12,
   "id": "b6c0b091",
   "metadata": {},
   "outputs": [
    {
     "data": {
      "text/plain": [
       "404"
      ]
     },
     "execution_count": 12,
     "metadata": {},
     "output_type": "execute_result"
    }
   ],
   "source": [
    "top_ingredients = get_wirkstoff_distr(df_train, 1000)\n",
    "len(top_ingredients)"
   ]
  },
  {
   "cell_type": "code",
   "execution_count": 13,
   "id": "ee44eeeb",
   "metadata": {},
   "outputs": [],
   "source": [
    "comp_vectors = {}\n",
    "for comp in df_train['Zulassungsinhaber'].unique():\n",
    "    vec = get_wirkstoff_distr_per_company(df_train, comp, top_ingredients, top=200, normalize=False)\n",
    "    comp_vectors[comp] = vec"
   ]
  },
  {
   "cell_type": "code",
   "execution_count": 14,
   "id": "c2ea744e",
   "metadata": {},
   "outputs": [
    {
     "data": {
      "text/plain": [
       "200"
      ]
     },
     "execution_count": 14,
     "metadata": {},
     "output_type": "execute_result"
    }
   ],
   "source": [
    "len(comp_vectors['Hexal Aktiengesellschaft'])"
   ]
  },
  {
   "cell_type": "code",
   "execution_count": 15,
   "id": "d6941b14",
   "metadata": {},
   "outputs": [],
   "source": [
    "def create_dataset(df, comp_vectors, top_ingredients):\n",
    "    X = []\n",
    "    y = []\n",
    "    for _, row in df.iterrows():\n",
    "        if row['Zulassungsinhaber'] not in comp_vectors:\n",
    "            # print(row['Zulassungsinhaber'])\n",
    "            continue\n",
    "        found = False\n",
    "        for ws in row['wirkstoff']:\n",
    "            if ws in top_ingredients:\n",
    "                X.append(comp_vectors[row['Zulassungsinhaber']])\n",
    "                y.append(top_ingredients.index(ws)+1)\n",
    "                found = True\n",
    "        if not found:\n",
    "            X.append(comp_vectors[row['Zulassungsinhaber']])\n",
    "            y.append(0)\n",
    "    return X, y"
   ]
  },
  {
   "cell_type": "code",
   "execution_count": 30,
   "id": "d6fcb4d5",
   "metadata": {},
   "outputs": [],
   "source": [
    "X200, _ = create_dataset(df, comp_vectors, top_ingredients)"
   ]
  },
  {
   "cell_type": "code",
   "execution_count": 31,
   "id": "f73896f8",
   "metadata": {},
   "outputs": [],
   "source": [
    "X200 = np.array(X200)"
   ]
  },
  {
   "cell_type": "code",
   "execution_count": 32,
   "id": "f0572352",
   "metadata": {},
   "outputs": [
    {
     "data": {
      "text/plain": [
       "(1872, 200)"
      ]
     },
     "execution_count": 32,
     "metadata": {},
     "output_type": "execute_result"
    }
   ],
   "source": [
    "X200.shape"
   ]
  },
  {
   "cell_type": "code",
   "execution_count": 35,
   "id": "ff9302b5",
   "metadata": {},
   "outputs": [
    {
     "data": {
      "text/plain": [
       "(-0.01979342019554913, 0.7808634930423132)"
      ]
     },
     "execution_count": 35,
     "metadata": {},
     "output_type": "execute_result"
    }
   ],
   "source": [
    "pearsonr(X200[0], X200[1])"
   ]
  },
  {
   "cell_type": "code",
   "execution_count": 45,
   "id": "fe557845",
   "metadata": {},
   "outputs": [
    {
     "data": {
      "text/plain": [
       "288"
      ]
     },
     "execution_count": 45,
     "metadata": {},
     "output_type": "execute_result"
    }
   ],
   "source": [
    "np.count_nonzero(X200[:,3])"
   ]
  },
  {
   "cell_type": "code",
   "execution_count": 53,
   "id": "6abed5ad",
   "metadata": {},
   "outputs": [
    {
     "data": {
      "text/plain": [
       "110.17"
      ]
     },
     "execution_count": 53,
     "metadata": {},
     "output_type": "execute_result"
    }
   ],
   "source": [
    "np.count_nonzero(X200)/(X200.shape[1])"
   ]
  },
  {
   "cell_type": "code",
   "execution_count": 50,
   "id": "4105ba9f",
   "metadata": {},
   "outputs": [
    {
     "name": "stdout",
     "output_type": "stream",
     "text": [
      "Valsartan <-> Hydrochlorothiazid (0.9932979889661601, 0.0)\n",
      "inaktiviert <-> Proteus mirabilis (0.9999999999999998, 0.0)\n",
      "inaktiviert <-> Klebsiella pneumoniae (0.9999999999999998, 0.0)\n",
      "inaktiviert <-> Escherichia coli (0.9999999999999998, 0.0)\n",
      "inaktiviert <-> Enterococcus faecalis (0.9999999999999998, 0.0)\n",
      "inaktiviert <-> Proteus morganii (0.9999999999999998, 0.0)\n",
      "inaktiviert <-> Lactobacillus vaginalis (0.9999999999999998, 0.0)\n",
      "inaktiviert <-> Lactobacillus salivarius (0.9999999999999998, 0.0)\n",
      "inaktiviert <-> Lactobacillus rhamnosus (0.9999999999999998, 0.0)\n",
      "inaktiviert <-> Lactobacillus fermentum (0.9999999999999998, 0.0)\n",
      "inaktiviert <-> Morganella morganii (0.9999999999999996, 0.0)\n",
      "Levothyroxin-Natrium <-> Caspofungindiacetat (0.95487590889237, 0.0)\n",
      "Kaliumiodid <-> Nifedipin (0.9819006789221152, 0.0)\n",
      "Kaliumiodid <-> Oxytocin (0.9766833580177243, 0.0)\n",
      "Kaliumiodid <-> Hydromorphonhydrochlorid (0.9863270449318376, 0.0)\n",
      "Kaliumiodid <-> Salbutamolsulfat (0.9018682135905461, 0.0)\n",
      "Kaliumiodid <-> Kaliumclavulanat (0.9792523709879892, 0.0)\n",
      "Kaliumiodid <-> Ganciclovir-Natrium (0.9761010800497221, 0.0)\n",
      "Kaliumiodid <-> Amoxicillin-Natrium (0.9863270449318376, 0.0)\n",
      "Kaliumiodid <-> Isotretinoin (0.986327044931838, 0.0)\n",
      "Ampicillin-Natrium <-> Sulbactam-Natrium (0.9964323077935707, 0.0)\n",
      "Ampicillin-Natrium <-> Nitrofurantoin (0.9549118958505809, 0.0)\n",
      "Ampicillin-Natrium <-> Heparin-Natrium (0.9487000959786425, 0.0)\n",
      "Ampicillin-Natrium <-> Midazolam (0.954964585508044, 0.0)\n",
      "Ampicillin-Natrium <-> Sufentanil (0.9569741316284412, 0.0)\n",
      "Ampicillin-Natrium <-> Cefuroxim-Natrium (0.9546728437425709, 0.0)\n",
      "Ampicillin-Natrium <-> Nevirapin (0.9569741316284412, 0.0)\n",
      "Ibuprofen <-> Zoledrons�ure  1 H<2>O (0.9194146472802696, 0.0)\n",
      "Ibuprofen <-> Cefixim 3 H<2>O (0.9220525158457898, 0.0)\n",
      "Tazobactam-Natrium <-> Topotecanhydrochlorid (0.925866157691082, 0.0)\n",
      "Tazobactam-Natrium <-> Calciumfolinat  5 H<2>O (0.9275330719133782, 0.0)\n",
      "Tazobactam-Natrium <-> Thioridazinhydrochlorid (0.9275330719133782, 0.0)\n",
      "Trimethoprim <-> Sulfamethoxazol (0.9999999999999974, 0.0)\n",
      "Sulbactam-Natrium <-> Nitrofurantoin (0.9269670615604632, 0.0)\n",
      "Sulbactam-Natrium <-> Heparin-Natrium (0.9207725283274003, 0.0)\n",
      "Sulbactam-Natrium <-> Midazolam (0.9270866512315333, 0.0)\n",
      "Sulbactam-Natrium <-> Sufentanil (0.9290705309605499, 0.0)\n",
      "Sulbactam-Natrium <-> Cefuroxim-Natrium (0.9269260911038271, 0.0)\n",
      "Sulbactam-Natrium <-> Nevirapin (0.9290705309605499, 0.0)\n",
      "Levodopa <-> Benserazidhydrochlorid (1.0, 0.0)\n",
      "Levodopa <-> Oseltamivirphosphat (0.9987004357846373, 0.0)\n",
      "Benserazidhydrochlorid <-> Oseltamivirphosphat (0.9987004357846373, 0.0)\n",
      "Pregabalin <-> Flucloxacillin-Natrium  1 H<2>O (0.9947646975956902, 0.0)\n",
      "Pregabalin <-> Topiramat (0.9761065562878037, 0.0)\n",
      "Pregabalin <-> Oxaliplatin (0.998339716571544, 0.0)\n",
      "Pregabalin <-> Imatinibmesilat (0.9989722213652135, 0.0)\n",
      "Prednisolonacetat <-> Methylprednisolon (0.999999999999998, 0.0)\n",
      "Nifedipin <-> Oxytocin (0.9866440595810191, 0.0)\n",
      "Nifedipin <-> Hydromorphonhydrochlorid (0.9960259916782441, 0.0)\n",
      "Nifedipin <-> Salbutamolsulfat (0.9145891860284698, 0.0)\n",
      "Nifedipin <-> Kaliumclavulanat (0.9899386125463615, 0.0)\n",
      "Nifedipin <-> Ganciclovir-Natrium (0.9861969013312836, 0.0)\n",
      "Nifedipin <-> Amoxicillin-Natrium (0.9960259916782441, 0.0)\n",
      "Nifedipin <-> Isotretinoin (0.9960259916782442, 0.0)\n",
      "Idarubicinhydrochlorid <-> Paromomycinsulfat (1.0, 0.0)\n",
      "Idarubicinhydrochlorid <-> Lorazepam (1.0, 0.0)\n",
      "Idarubicinhydrochlorid <-> Alprostadil (0.9990164043506262, 0.0)\n",
      "Idarubicinhydrochlorid <-> Sildenafilcitrat (1.0, 0.0)\n",
      "Idarubicinhydrochlorid <-> Medroxyprogesteronacetat (1.0, 0.0)\n",
      "Cytarabin <-> Methyldopa  1.5 H<2>O (0.9544639273553709, 0.0)\n",
      "Cytarabin <-> Doxorubicinhydrochlorid (0.9658480364985416, 0.0)\n",
      "Cytarabin <-> Ifosfamid (0.9987396958654348, 0.0)\n",
      "Amoxicillin-Trihydrat <-> Nitrofurantoin (0.9350289464737644, 0.0)\n",
      "Amoxicillin-Trihydrat <-> Heparin-Natrium (0.9282678912221007, 0.0)\n",
      "Amoxicillin-Trihydrat <-> Phenoxymethylpenicillin-Kalium (0.9411210633046782, 0.0)\n",
      "Amoxicillin-Trihydrat <-> Midazolam (0.9353628461626101, 0.0)\n",
      "Amoxicillin-Trihydrat <-> Sufentanil (0.9374672513260977, 0.0)\n",
      "Amoxicillin-Trihydrat <-> Cefuroxim-Natrium (0.932933203636569, 0.0)\n",
      "Amoxicillin-Trihydrat <-> Nevirapin (0.9374672513260977, 0.0)\n",
      "Sulfasalazin <-> Levonorgestrel (0.9693567000610068, 0.0)\n",
      "Sulfasalazin <-> Ethinylestradiol (0.9700191541838759, 0.0)\n",
      "Ranitidinhydrochlorid <-> Bromocriptinmesilat (0.9344447196879624, 0.0)\n",
      "Ranitidinhydrochlorid <-> Phenprocoumon (0.9416798351620638, 0.0)\n",
      "Paracetamol <-> Aciclovir (0.9602090647845913, 0.0)\n",
      "Interferon alfa-2b <-> Morphinhydrochlorid  3 H<2>O (0.9999999999999998, 0.0)\n",
      "Interferon alfa-2b <-> Aprepitant (0.9982791149992094, 0.0)\n",
      "Interferon alfa-2b <-> Letermovir (0.9999999999999998, 0.0)\n",
      "Nitrofurantoin <-> Heparin-Natrium (0.9903626215504827, 0.0)\n",
      "Nitrofurantoin <-> Midazolam (0.9961967169849216, 0.0)\n",
      "Nitrofurantoin <-> Sufentanil (0.998193561454612, 0.0)\n",
      "Nitrofurantoin <-> Cefuroxim-Natrium (0.9953720050474362, 0.0)\n",
      "Nitrofurantoin <-> Nevirapin (0.998193561454612, 0.0)\n",
      "Morphinsulfat <-> Metoprololsuccinat (0.9730637447262489, 0.0)\n",
      "Morphinsulfat <-> Pipamperondihydrochlorid (0.9973593643384319, 0.0)\n",
      "Immunglobulin G vom Menschen <-> Isofluran (0.9994493743995905, 0.0)\n",
      "Flucloxacillin-Natrium  1 H<2>O <-> Topiramat (0.9609960537306643, 0.0)\n",
      "Flucloxacillin-Natrium  1 H<2>O <-> Oxaliplatin (0.9952752309376032, 0.0)\n",
      "Flucloxacillin-Natrium  1 H<2>O <-> Imatinibmesilat (0.9958283327850669, 0.0)\n",
      "Topiramat <-> Oxaliplatin (0.9641584153579696, 0.0)\n",
      "Topiramat <-> Imatinibmesilat (0.9652542080883396, 0.0)\n",
      "Olanzapin <-> Rizatriptanbenzoat (1.0, 0.0)\n",
      "Olanzapin <-> Levetiracetam (0.9996142479862853, 0.0)\n",
      "Olanzapin <-> Escitalopramoxalat (1.0, 0.0)\n",
      "Olanzapin <-> Zonisamid (0.9577141946603751, 0.0)\n",
      "Olanzapin <-> Pramipexoldihydrochlorid  1 H<2>O (1.0, 0.0)\n",
      "Olanzapin <-> Gabapentin (1.0, 0.0)\n",
      "Olanzapin <-> Etoricoxib (1.0, 0.0)\n",
      "Olanzapin <-> Trazodonhydrochlorid (1.0, 0.0)\n",
      "Olanzapin <-> Riluzol (0.9746880620733784, 0.0)\n",
      "Olanzapin <-> Duloxetinhydrochlorid (1.0, 0.0)\n",
      "Olanzapin <-> Ropinirolhydrochlorid (1.0, 0.0)\n",
      "Olanzapin <-> Nortriptylinhydrochlorid (1.0, 0.0)\n",
      "Olanzapin <-> Nebivololhydrochlorid (0.9532801273018775, 0.0)\n",
      "Methyldopa  1.5 H<2>O <-> Doxorubicinhydrochlorid (0.923183297028809, 0.0)\n",
      "Methyldopa  1.5 H<2>O <-> Ifosfamid (0.9557211810412234, 0.0)\n",
      "Heparin-Natrium <-> Midazolam (0.990258560909488, 0.0)\n",
      "Heparin-Natrium <-> Sufentanil (0.9922658603781123, 0.0)\n",
      "Heparin-Natrium <-> Cefuroxim-Natrium (0.9892775068470463, 0.0)\n",
      "Heparin-Natrium <-> Nevirapin (0.9922658603781123, 0.0)\n",
      "Bromocriptinmesilat <-> Phenprocoumon (0.999239487315465, 0.0)\n",
      "Topotecanhydrochlorid <-> Calciumfolinat  5 H<2>O (0.9984019882195914, 0.0)\n",
      "Topotecanhydrochlorid <-> Thioridazinhydrochlorid (0.9984019882195914, 0.0)\n",
      "Tetracosactidhexaacetat <-> Levocarnitin (1.0, 0.0)\n",
      "Rizatriptanbenzoat <-> Levetiracetam (0.9996142479862853, 0.0)\n",
      "Rizatriptanbenzoat <-> Escitalopramoxalat (1.0, 0.0)\n",
      "Rizatriptanbenzoat <-> Zonisamid (0.9577141946603751, 0.0)\n",
      "Rizatriptanbenzoat <-> Pramipexoldihydrochlorid  1 H<2>O (1.0, 0.0)\n",
      "Rizatriptanbenzoat <-> Gabapentin (1.0, 0.0)\n",
      "Rizatriptanbenzoat <-> Etoricoxib (1.0, 0.0)\n",
      "Rizatriptanbenzoat <-> Trazodonhydrochlorid (1.0, 0.0)\n",
      "Rizatriptanbenzoat <-> Riluzol (0.9746880620733784, 0.0)\n",
      "Rizatriptanbenzoat <-> Duloxetinhydrochlorid (1.0, 0.0)\n",
      "Rizatriptanbenzoat <-> Ropinirolhydrochlorid (1.0, 0.0)\n",
      "Rizatriptanbenzoat <-> Nortriptylinhydrochlorid (1.0, 0.0)\n",
      "Rizatriptanbenzoat <-> Nebivololhydrochlorid (0.9532801273018779, 0.0)\n",
      "Proteus mirabilis <-> Klebsiella pneumoniae (0.9999999999999998, 0.0)\n",
      "Proteus mirabilis <-> Escherichia coli (0.9999999999999998, 0.0)\n",
      "Proteus mirabilis <-> Enterococcus faecalis (0.9999999999999998, 0.0)\n",
      "Proteus mirabilis <-> Proteus morganii (0.9999999999999998, 0.0)\n",
      "Proteus mirabilis <-> Lactobacillus vaginalis (0.9999999999999998, 0.0)\n",
      "Proteus mirabilis <-> Lactobacillus salivarius (0.9999999999999998, 0.0)\n",
      "Proteus mirabilis <-> Lactobacillus rhamnosus (0.9999999999999998, 0.0)\n",
      "Proteus mirabilis <-> Lactobacillus fermentum (0.9999999999999998, 0.0)\n",
      "Proteus mirabilis <-> Morganella morganii (0.9999999999999998, 0.0)\n",
      "Oxytocin <-> Hydromorphonhydrochlorid (0.9906676949547736, 0.0)\n",
      "Oxytocin <-> Salbutamolsulfat (0.9097891494800989, 0.0)\n",
      "Oxytocin <-> Kaliumclavulanat (0.9846460263390637, 0.0)\n",
      "Oxytocin <-> Ganciclovir-Natrium (0.980906996236068, 0.0)\n",
      "Oxytocin <-> Amoxicillin-Natrium (0.9906676949547736, 0.0)\n",
      "Oxytocin <-> Isotretinoin (0.9906676949547737, 0.0)\n",
      "Natriumvalproat <-> Norepinephrinhydrochlorid (0.9999999999999997, 0.0)\n",
      "Natriumvalproat <-> Valproins�ure (0.9999999999999997, 0.0)\n",
      "Morphinhydrochlorid  3 H<2>O <-> Aprepitant (0.9982791149992094, 0.0)\n",
      "Morphinhydrochlorid  3 H<2>O <-> Letermovir (0.9999999999999998, 0.0)\n",
      "Levetiracetam <-> Escitalopramoxalat (0.9996142479862853, 0.0)\n",
      "Levetiracetam <-> Zonisamid (0.9572082395430275, 0.0)\n",
      "Levetiracetam <-> Pramipexoldihydrochlorid  1 H<2>O (0.9996142479862853, 0.0)\n",
      "Levetiracetam <-> Gabapentin (0.9996142479862853, 0.0)\n",
      "Levetiracetam <-> Etoricoxib (0.9996142479862853, 0.0)\n",
      "Levetiracetam <-> Trazodonhydrochlorid (0.9996142479862853, 0.0)\n",
      "Levetiracetam <-> Riluzol (0.9743032698429956, 0.0)\n",
      "Levetiracetam <-> Duloxetinhydrochlorid (0.9996142479862853, 0.0)\n",
      "Levetiracetam <-> Ropinirolhydrochlorid (0.9996142479862853, 0.0)\n",
      "Levetiracetam <-> Nortriptylinhydrochlorid (0.9996142479862853, 0.0)\n",
      "Levetiracetam <-> Nebivololhydrochlorid (0.9528324859088135, 0.0)\n",
      "Klebsiella pneumoniae <-> Escherichia coli (0.9999999999999998, 0.0)\n",
      "Klebsiella pneumoniae <-> Enterococcus faecalis (0.9999999999999998, 0.0)\n",
      "Klebsiella pneumoniae <-> Proteus morganii (0.9999999999999998, 0.0)\n",
      "Klebsiella pneumoniae <-> Lactobacillus vaginalis (0.9999999999999998, 0.0)\n",
      "Klebsiella pneumoniae <-> Lactobacillus salivarius (0.9999999999999998, 0.0)\n",
      "Klebsiella pneumoniae <-> Lactobacillus rhamnosus (0.9999999999999998, 0.0)\n",
      "Klebsiella pneumoniae <-> Lactobacillus fermentum (0.9999999999999998, 0.0)\n",
      "Klebsiella pneumoniae <-> Morganella morganii (0.9999999999999998, 0.0)\n",
      "Hydromorphonhydrochlorid <-> Salbutamolsulfat (0.9191788650053001, 0.0)\n",
      "Hydromorphonhydrochlorid <-> Kaliumclavulanat (0.9941463645003145, 0.0)\n",
      "Hydromorphonhydrochlorid <-> Ganciclovir-Natrium (0.9902531398135221, 0.0)\n",
      "Hydromorphonhydrochlorid <-> Amoxicillin-Natrium (1.0, 0.0)\n",
      "Hydromorphonhydrochlorid <-> Isotretinoin (1.0, 0.0)\n",
      "Escitalopramoxalat <-> Zonisamid (0.9577141946603751, 0.0)\n",
      "Escitalopramoxalat <-> Pramipexoldihydrochlorid  1 H<2>O (1.0, 0.0)\n",
      "Escitalopramoxalat <-> Gabapentin (1.0, 0.0)\n",
      "Escitalopramoxalat <-> Etoricoxib (1.0, 0.0)\n",
      "Escitalopramoxalat <-> Trazodonhydrochlorid (1.0, 0.0)\n",
      "Escitalopramoxalat <-> Riluzol (0.9746880620733784, 0.0)\n",
      "Escitalopramoxalat <-> Duloxetinhydrochlorid (1.0, 0.0)\n",
      "Escitalopramoxalat <-> Ropinirolhydrochlorid (1.0, 0.0)\n",
      "Escitalopramoxalat <-> Nortriptylinhydrochlorid (1.0, 0.0)\n",
      "Escitalopramoxalat <-> Nebivololhydrochlorid (0.9532801273018779, 0.0)\n",
      "Escherichia coli <-> Enterococcus faecalis (0.9999999999999998, 0.0)\n",
      "Escherichia coli <-> Proteus morganii (0.9999999999999998, 0.0)\n",
      "Escherichia coli <-> Lactobacillus vaginalis (0.9999999999999998, 0.0)\n",
      "Escherichia coli <-> Lactobacillus salivarius (0.9999999999999998, 0.0)\n",
      "Escherichia coli <-> Lactobacillus rhamnosus (0.9999999999999998, 0.0)\n",
      "Escherichia coli <-> Lactobacillus fermentum (0.9999999999999998, 0.0)\n",
      "Escherichia coli <-> Morganella morganii (0.9999999999999998, 0.0)\n",
      "Enterococcus faecalis <-> Proteus morganii (0.9999999999999998, 0.0)\n",
      "Enterococcus faecalis <-> Lactobacillus vaginalis (0.9999999999999998, 0.0)\n",
      "Enterococcus faecalis <-> Lactobacillus salivarius (0.9999999999999998, 0.0)\n",
      "Enterococcus faecalis <-> Lactobacillus rhamnosus (0.9999999999999998, 0.0)\n",
      "Enterococcus faecalis <-> Lactobacillus fermentum (0.9999999999999998, 0.0)\n",
      "Enterococcus faecalis <-> Morganella morganii (0.9999999999999998, 0.0)\n",
      "Aprepitant <-> Letermovir (0.9982791149992094, 0.0)\n",
      "Zonisamid <-> Pramipexoldihydrochlorid  1 H<2>O (0.9577141946603751, 0.0)\n",
      "Zonisamid <-> Gabapentin (0.9577141946603751, 0.0)\n",
      "Zonisamid <-> Etoricoxib (0.9577141946603751, 0.0)\n",
      "Zonisamid <-> Trazodonhydrochlorid (0.9577141946603751, 0.0)\n",
      "Zonisamid <-> Riluzol (0.9330246101847559, 0.0)\n",
      "Zonisamid <-> Duloxetinhydrochlorid (0.9577141946603751, 0.0)\n",
      "Zonisamid <-> Ropinirolhydrochlorid (0.9577141946603751, 0.0)\n",
      "Zonisamid <-> Nortriptylinhydrochlorid (0.9577141946603751, 0.0)\n",
      "Zonisamid <-> Nebivololhydrochlorid (0.9089038494583219, 0.0)\n"
     ]
    },
    {
     "name": "stdout",
     "output_type": "stream",
     "text": [
      "Zoledrons�ure  1 H<2>O <-> Theophyllin (0.9242805741959108, 0.0)\n",
      "Zoledrons�ure  1 H<2>O <-> Cefixim 3 H<2>O (0.9975005845634611, 0.0)\n",
      "Zinkchlorid <-> Natriumfluorid (0.9999999999999996, 0.0)\n",
      "Zinkchlorid <-> Mangan-chlorid  4 H<2>O (0.9999999999999996, 0.0)\n",
      "Zinkchlorid <-> Kupfer-chlorid  2 H<2>O (0.9999999999999996, 0.0)\n",
      "Zinkchlorid <-> Natriumselenit (0.9680031677738357, 0.0)\n",
      "Zinkchlorid <-> all-rac-alpha-Tocopherolacetat (0.9459050605282091, 0.0)\n",
      "Zinkchlorid <-> Valin (0.9459050605282091, 0.0)\n",
      "Zinkchlorid <-> Tyrosin (0.9459050605282091, 0.0)\n",
      "Zinkchlorid <-> Tryptophan (0.9459050605282091, 0.0)\n",
      "Zinkchlorid <-> Threonin (0.9459050605282091, 0.0)\n",
      "Zinkchlorid <-> Taurin (0.9459050605282091, 0.0)\n",
      "Zinkchlorid <-> Serin (0.9459050605282091, 0.0)\n",
      "Zinkchlorid <-> Retinolpalmitat (0.9459050605282091, 0.0)\n",
      "Zinkchlorid <-> Prolin (0.9459050605282091, 0.0)\n",
      "Zinkchlorid <-> Phytomenadion (0.9459050605282091, 0.0)\n",
      "Zinkchlorid <-> Phenylalanin (0.9459050605282091, 0.0)\n",
      "Zinkchlorid <-> Natriummolybdat-Dihydrat (0.9459050605282091, 0.0)\n",
      "Zinkchlorid <-> Natriumchlorid (0.9459050605282091, 0.0)\n",
      "Zinkchlorid <-> Methionin (0.9459050605282091, 0.0)\n",
      "Zinkchlorid <-> Lysinacetat (0.9459050605282091, 0.0)\n",
      "Zinkchlorid <-> Leucin (0.9459050605282091, 0.0)\n",
      "Zinkchlorid <-> Isoleucin (0.9459050605282091, 0.0)\n",
      "Zinkchlorid <-> Irinotecanhydrochlorid 3 H<2>O (0.9365518820754, 0.0)\n",
      "Zanamivir <-> Albendazol (0.9999999999999984, 0.0)\n",
      "Zanamivir <-> Scopolamin (0.9999999999999984, 0.0)\n",
      "Salbutamolsulfat <-> Kaliumclavulanat (0.9563495014847976, 0.0)\n",
      "Salbutamolsulfat <-> Ganciclovir-Natrium (0.9090875070018631, 0.0)\n",
      "Salbutamolsulfat <-> Amoxicillin-Natrium (0.9191788650053001, 0.0)\n",
      "Salbutamolsulfat <-> Isotretinoin (0.9191788650053001, 0.0)\n",
      "Pramipexoldihydrochlorid  1 H<2>O <-> Gabapentin (1.0, 0.0)\n",
      "Pramipexoldihydrochlorid  1 H<2>O <-> Etoricoxib (1.0, 0.0)\n",
      "Pramipexoldihydrochlorid  1 H<2>O <-> Trazodonhydrochlorid (1.0, 0.0)\n",
      "Pramipexoldihydrochlorid  1 H<2>O <-> Riluzol (0.9746880620733784, 0.0)\n",
      "Pramipexoldihydrochlorid  1 H<2>O <-> Duloxetinhydrochlorid (1.0, 0.0)\n",
      "Pramipexoldihydrochlorid  1 H<2>O <-> Ropinirolhydrochlorid (1.0, 0.0)\n",
      "Pramipexoldihydrochlorid  1 H<2>O <-> Nortriptylinhydrochlorid (1.0, 0.0)\n",
      "Pramipexoldihydrochlorid  1 H<2>O <-> Nebivololhydrochlorid (0.9532801273018775, 0.0)\n",
      "Paromomycinsulfat <-> Lorazepam (1.0, 0.0)\n",
      "Paromomycinsulfat <-> Alprostadil (0.9990164043506262, 0.0)\n",
      "Paromomycinsulfat <-> Sildenafilcitrat (1.0, 0.0)\n",
      "Paromomycinsulfat <-> Medroxyprogesteronacetat (1.0, 0.0)\n",
      "Natriumfluorid <-> Mangan-chlorid  4 H<2>O (0.9999999999999996, 0.0)\n",
      "Natriumfluorid <-> Kupfer-chlorid  2 H<2>O (0.9999999999999996, 0.0)\n",
      "Natriumfluorid <-> Natriumselenit (0.9680031677738357, 0.0)\n",
      "Natriumfluorid <-> all-rac-alpha-Tocopherolacetat (0.9459050605282091, 0.0)\n",
      "Natriumfluorid <-> Valin (0.9459050605282091, 0.0)\n",
      "Natriumfluorid <-> Tyrosin (0.9459050605282091, 0.0)\n",
      "Natriumfluorid <-> Tryptophan (0.9459050605282091, 0.0)\n",
      "Natriumfluorid <-> Threonin (0.9459050605282091, 0.0)\n",
      "Natriumfluorid <-> Taurin (0.9459050605282091, 0.0)\n",
      "Natriumfluorid <-> Serin (0.9459050605282091, 0.0)\n",
      "Natriumfluorid <-> Retinolpalmitat (0.9459050605282091, 0.0)\n",
      "Natriumfluorid <-> Prolin (0.9459050605282091, 0.0)\n",
      "Natriumfluorid <-> Phytomenadion (0.9459050605282091, 0.0)\n",
      "Natriumfluorid <-> Phenylalanin (0.9459050605282091, 0.0)\n",
      "Natriumfluorid <-> Natriummolybdat-Dihydrat (0.9459050605282091, 0.0)\n",
      "Natriumfluorid <-> Natriumchlorid (0.9459050605282091, 0.0)\n",
      "Natriumfluorid <-> Methionin (0.9459050605282091, 0.0)\n",
      "Natriumfluorid <-> Lysinacetat (0.9459050605282091, 0.0)\n",
      "Natriumfluorid <-> Leucin (0.9459050605282091, 0.0)\n",
      "Natriumfluorid <-> Isoleucin (0.9459050605282091, 0.0)\n",
      "Natriumfluorid <-> Irinotecanhydrochlorid 3 H<2>O (0.9365518820754, 0.0)\n",
      "Midazolam <-> Sufentanil (0.9980133193672795, 0.0)\n",
      "Midazolam <-> Cefuroxim-Natrium (0.9952686334066558, 0.0)\n",
      "Midazolam <-> Nevirapin (0.9980133193672795, 0.0)\n",
      "Metoprololsuccinat <-> Pipamperondihydrochlorid (0.9756400546474041, 0.0)\n",
      "Metildigoxin-Aceton <-> Rifampicin-Natrium (1.0, 0.0)\n",
      "Metildigoxin-Aceton <-> Hyaluronidase (1.0, 0.0)\n",
      "Mangan-chlorid  4 H<2>O <-> Kupfer-chlorid  2 H<2>O (0.9999999999999996, 0.0)\n",
      "Mangan-chlorid  4 H<2>O <-> Natriumselenit (0.9680031677738357, 0.0)\n",
      "Mangan-chlorid  4 H<2>O <-> all-rac-alpha-Tocopherolacetat (0.9459050605282091, 0.0)\n",
      "Mangan-chlorid  4 H<2>O <-> Valin (0.9459050605282091, 0.0)\n",
      "Mangan-chlorid  4 H<2>O <-> Tyrosin (0.9459050605282091, 0.0)\n",
      "Mangan-chlorid  4 H<2>O <-> Tryptophan (0.9459050605282091, 0.0)\n",
      "Mangan-chlorid  4 H<2>O <-> Threonin (0.9459050605282091, 0.0)\n",
      "Mangan-chlorid  4 H<2>O <-> Taurin (0.9459050605282091, 0.0)\n",
      "Mangan-chlorid  4 H<2>O <-> Serin (0.9459050605282091, 0.0)\n",
      "Mangan-chlorid  4 H<2>O <-> Retinolpalmitat (0.9459050605282091, 0.0)\n",
      "Mangan-chlorid  4 H<2>O <-> Prolin (0.9459050605282091, 0.0)\n",
      "Mangan-chlorid  4 H<2>O <-> Phytomenadion (0.9459050605282091, 0.0)\n",
      "Mangan-chlorid  4 H<2>O <-> Phenylalanin (0.9459050605282091, 0.0)\n",
      "Mangan-chlorid  4 H<2>O <-> Natriummolybdat-Dihydrat (0.9459050605282091, 0.0)\n",
      "Mangan-chlorid  4 H<2>O <-> Natriumchlorid (0.9459050605282091, 0.0)\n",
      "Mangan-chlorid  4 H<2>O <-> Methionin (0.9459050605282091, 0.0)\n",
      "Mangan-chlorid  4 H<2>O <-> Lysinacetat (0.9459050605282091, 0.0)\n",
      "Mangan-chlorid  4 H<2>O <-> Leucin (0.9459050605282091, 0.0)\n",
      "Mangan-chlorid  4 H<2>O <-> Isoleucin (0.9459050605282091, 0.0)\n",
      "Mangan-chlorid  4 H<2>O <-> Irinotecanhydrochlorid 3 H<2>O (0.9365518820754, 0.0)\n",
      "Lorazepam <-> Alprostadil (0.9990164043506264, 0.0)\n",
      "Lorazepam <-> Sildenafilcitrat (1.0, 0.0)\n",
      "Lorazepam <-> Medroxyprogesteronacetat (1.0, 0.0)\n",
      "Levonorgestrel <-> Ethinylestradiol (0.9994150360837865, 0.0)\n",
      "Kupfer-chlorid  2 H<2>O <-> Natriumselenit (0.9680031677738357, 0.0)\n",
      "Kupfer-chlorid  2 H<2>O <-> all-rac-alpha-Tocopherolacetat (0.9459050605282091, 0.0)\n",
      "Kupfer-chlorid  2 H<2>O <-> Valin (0.9459050605282091, 0.0)\n",
      "Kupfer-chlorid  2 H<2>O <-> Tyrosin (0.9459050605282091, 0.0)\n",
      "Kupfer-chlorid  2 H<2>O <-> Tryptophan (0.9459050605282091, 0.0)\n",
      "Kupfer-chlorid  2 H<2>O <-> Threonin (0.9459050605282091, 0.0)\n",
      "Kupfer-chlorid  2 H<2>O <-> Taurin (0.9459050605282091, 0.0)\n",
      "Kupfer-chlorid  2 H<2>O <-> Serin (0.9459050605282091, 0.0)\n",
      "Kupfer-chlorid  2 H<2>O <-> Retinolpalmitat (0.9459050605282091, 0.0)\n",
      "Kupfer-chlorid  2 H<2>O <-> Prolin (0.9459050605282091, 0.0)\n",
      "Kupfer-chlorid  2 H<2>O <-> Phytomenadion (0.9459050605282091, 0.0)\n",
      "Kupfer-chlorid  2 H<2>O <-> Phenylalanin (0.9459050605282091, 0.0)\n",
      "Kupfer-chlorid  2 H<2>O <-> Natriummolybdat-Dihydrat (0.9459050605282091, 0.0)\n",
      "Kupfer-chlorid  2 H<2>O <-> Natriumchlorid (0.9459050605282091, 0.0)\n",
      "Kupfer-chlorid  2 H<2>O <-> Methionin (0.9459050605282091, 0.0)\n",
      "Kupfer-chlorid  2 H<2>O <-> Lysinacetat (0.9459050605282091, 0.0)\n",
      "Kupfer-chlorid  2 H<2>O <-> Leucin (0.9459050605282091, 0.0)\n",
      "Kupfer-chlorid  2 H<2>O <-> Isoleucin (0.9459050605282091, 0.0)\n",
      "Kupfer-chlorid  2 H<2>O <-> Irinotecanhydrochlorid 3 H<2>O (0.9365518820754, 0.0)\n",
      "Kaliumclavulanat <-> Ganciclovir-Natrium (0.9841459502420301, 0.0)\n",
      "Kaliumclavulanat <-> Amoxicillin-Natrium (0.9941463645003145, 0.0)\n",
      "Kaliumclavulanat <-> Isotretinoin (0.9941463645003148, 0.0)\n",
      "Ganciclovir-Natrium <-> Amoxicillin-Natrium (0.9902531398135221, 0.0)\n",
      "Ganciclovir-Natrium <-> Isotretinoin (0.9902531398135224, 0.0)\n",
      "Gabapentin <-> Etoricoxib (1.0, 0.0)\n",
      "Gabapentin <-> Trazodonhydrochlorid (1.0, 0.0)\n",
      "Gabapentin <-> Riluzol (0.9746880620733784, 0.0)\n",
      "Gabapentin <-> Duloxetinhydrochlorid (1.0, 0.0)\n",
      "Gabapentin <-> Ropinirolhydrochlorid (1.0, 0.0)\n",
      "Gabapentin <-> Nortriptylinhydrochlorid (1.0, 0.0)\n",
      "Gabapentin <-> Nebivololhydrochlorid (0.9532801273018779, 0.0)\n",
      "Fondaparinux-Natrium <-> Lidocainhydrochlorid  1 H<2>O (0.999999999999998, 0.0)\n",
      "Fondaparinux-Natrium <-> Melphalan (0.999999999999998, 0.0)\n",
      "Ezetimib <-> Atorvastatin-Calcium-Trihydrat (1.0, 0.0)\n",
      "Etoricoxib <-> Trazodonhydrochlorid (1.0, 0.0)\n",
      "Etoricoxib <-> Riluzol (0.9746880620733784, 0.0)\n",
      "Etoricoxib <-> Duloxetinhydrochlorid (1.0, 0.0)\n",
      "Etoricoxib <-> Ropinirolhydrochlorid (1.0, 0.0)\n",
      "Etoricoxib <-> Nortriptylinhydrochlorid (1.0, 0.0)\n",
      "Etoricoxib <-> Nebivololhydrochlorid (0.9532801273018775, 0.0)\n",
      "Doxorubicinhydrochlorid <-> Vincristinsulfat (0.9682497059542222, 0.0)\n",
      "Doxorubicinhydrochlorid <-> Ifosfamid (0.967157215730761, 0.0)\n",
      "Clonazepam <-> Phenytoin-Natrium (0.9999999999999997, 0.0)\n",
      "Clonazepam <-> Phenytoin (0.9999999999999997, 0.0)\n",
      "Alprostadil <-> Sildenafilcitrat (0.9990164043506262, 0.0)\n",
      "Alprostadil <-> Medroxyprogesteronacetat (0.9990164043506262, 0.0)\n",
      "Trazodonhydrochlorid <-> Riluzol (0.9746880620733784, 0.0)\n",
      "Trazodonhydrochlorid <-> Duloxetinhydrochlorid (1.0, 0.0)\n",
      "Trazodonhydrochlorid <-> Ropinirolhydrochlorid (1.0, 0.0)\n",
      "Trazodonhydrochlorid <-> Nortriptylinhydrochlorid (1.0, 0.0)\n",
      "Trazodonhydrochlorid <-> Nebivololhydrochlorid (0.9532801273018779, 0.0)\n",
      "Theophyllin <-> Cefixim 3 H<2>O (0.9270227708290228, 0.0)\n",
      "Sufentanil <-> Cefuroxim-Natrium (0.9972866745672937, 0.0)\n",
      "Sufentanil <-> Nevirapin (1.0, 0.0)\n",
      "Sildenafilcitrat <-> Medroxyprogesteronacetat (1.0, 0.0)\n",
      "Riluzol <-> Duloxetinhydrochlorid (0.9746880620733784, 0.0)\n",
      "Riluzol <-> Ropinirolhydrochlorid (0.9746880620733784, 0.0)\n",
      "Riluzol <-> Nortriptylinhydrochlorid (0.9746880620733784, 0.0)\n",
      "Riluzol <-> Nebivololhydrochlorid (0.9288885248146734, 0.0)\n",
      "Rifampicin-Natrium <-> Hyaluronidase (1.0, 0.0)\n",
      "Proteus morganii <-> Lactobacillus vaginalis (0.9999999999999998, 0.0)\n",
      "Proteus morganii <-> Lactobacillus salivarius (0.9999999999999998, 0.0)\n",
      "Proteus morganii <-> Lactobacillus rhamnosus (0.9999999999999998, 0.0)\n",
      "Proteus morganii <-> Lactobacillus fermentum (0.9999999999999998, 0.0)\n",
      "Proteus morganii <-> Morganella morganii (0.9999999999999998, 0.0)\n",
      "Norepinephrinhydrochlorid <-> Valproins�ure (0.9999999999999996, 0.0)\n",
      "Nitrendipin <-> Nimodipin (0.9703636578048485, 0.0)\n",
      "Natriumselenit <-> all-rac-alpha-Tocopherolacetat (0.977016373231266, 0.0)\n",
      "Natriumselenit <-> Valin (0.977016373231266, 0.0)\n",
      "Natriumselenit <-> Tyrosin (0.977016373231266, 0.0)\n",
      "Natriumselenit <-> Tryptophan (0.977016373231266, 0.0)\n",
      "Natriumselenit <-> Threonin (0.977016373231266, 0.0)\n",
      "Natriumselenit <-> Taurin (0.977016373231266, 0.0)\n"
     ]
    },
    {
     "name": "stdout",
     "output_type": "stream",
     "text": [
      "Natriumselenit <-> Serin (0.977016373231266, 0.0)\n",
      "Natriumselenit <-> Retinolpalmitat (0.977016373231266, 0.0)\n",
      "Natriumselenit <-> Prolin (0.977016373231266, 0.0)\n",
      "Natriumselenit <-> Phytomenadion (0.977016373231266, 0.0)\n",
      "Natriumselenit <-> Phenylalanin (0.977016373231266, 0.0)\n",
      "Natriumselenit <-> Natriummolybdat-Dihydrat (0.977016373231266, 0.0)\n",
      "Natriumselenit <-> Natriumchlorid (0.977016373231266, 0.0)\n",
      "Natriumselenit <-> Methionin (0.977016373231266, 0.0)\n",
      "Natriumselenit <-> Lysinacetat (0.977016373231266, 0.0)\n",
      "Natriumselenit <-> Leucin (0.977016373231266, 0.0)\n",
      "Natriumselenit <-> Isoleucin (0.977016373231266, 0.0)\n",
      "Natriumselenit <-> Irinotecanhydrochlorid 3 H<2>O (0.9674056843006203, 0.0)\n",
      "Lidocainhydrochlorid  1 H<2>O <-> Melphalan (0.999999999999998, 0.0)\n",
      "Lactobacillus vaginalis <-> Lactobacillus salivarius (0.9999999999999998, 0.0)\n",
      "Lactobacillus vaginalis <-> Lactobacillus rhamnosus (0.9999999999999998, 0.0)\n",
      "Lactobacillus vaginalis <-> Lactobacillus fermentum (0.9999999999999998, 0.0)\n",
      "Lactobacillus vaginalis <-> Morganella morganii (0.9999999999999998, 0.0)\n",
      "Lactobacillus salivarius <-> Lactobacillus rhamnosus (0.9999999999999998, 0.0)\n",
      "Lactobacillus salivarius <-> Lactobacillus fermentum (0.9999999999999998, 0.0)\n",
      "Lactobacillus salivarius <-> Morganella morganii (0.9999999999999998, 0.0)\n",
      "Lactobacillus rhamnosus <-> Lactobacillus fermentum (0.9999999999999998, 0.0)\n",
      "Lactobacillus rhamnosus <-> Morganella morganii (0.9999999999999998, 0.0)\n",
      "Lactobacillus fermentum <-> Morganella morganii (0.9999999999999998, 0.0)\n",
      "Duloxetinhydrochlorid <-> Ropinirolhydrochlorid (1.0, 0.0)\n",
      "Duloxetinhydrochlorid <-> Nortriptylinhydrochlorid (1.0, 0.0)\n",
      "Duloxetinhydrochlorid <-> Nebivololhydrochlorid (0.9532801273018779, 0.0)\n",
      "Cefuroxim-Natrium <-> Nevirapin (0.9972866745672937, 0.0)\n",
      "Calciumfolinat  5 H<2>O <-> Thioridazinhydrochlorid (0.9999999999999986, 0.0)\n",
      "Benzoylperoxid <-> Adapalen (1.0, 0.0)\n",
      "Amoxicillin-Natrium <-> Isotretinoin (1.0, 0.0)\n",
      "Albendazol <-> Scopolamin (0.9999999999999984, 0.0)\n",
      "all-rac-alpha-Tocopherolacetat <-> Valin (0.9999999999999996, 0.0)\n",
      "all-rac-alpha-Tocopherolacetat <-> Tyrosin (0.9999999999999996, 0.0)\n",
      "all-rac-alpha-Tocopherolacetat <-> Tryptophan (0.9999999999999996, 0.0)\n",
      "all-rac-alpha-Tocopherolacetat <-> Threonin (0.9999999999999996, 0.0)\n",
      "all-rac-alpha-Tocopherolacetat <-> Taurin (0.9999999999999996, 0.0)\n",
      "all-rac-alpha-Tocopherolacetat <-> Serin (0.9999999999999996, 0.0)\n",
      "all-rac-alpha-Tocopherolacetat <-> Retinolpalmitat (0.9999999999999998, 0.0)\n",
      "all-rac-alpha-Tocopherolacetat <-> Prolin (0.9999999999999996, 0.0)\n",
      "all-rac-alpha-Tocopherolacetat <-> Phytomenadion (0.9999999999999998, 0.0)\n",
      "all-rac-alpha-Tocopherolacetat <-> Phenylalanin (0.9999999999999996, 0.0)\n",
      "all-rac-alpha-Tocopherolacetat <-> Natriummolybdat-Dihydrat (0.9999999999999996, 0.0)\n",
      "all-rac-alpha-Tocopherolacetat <-> Natriumchlorid (0.9999999999999998, 0.0)\n",
      "all-rac-alpha-Tocopherolacetat <-> Methionin (0.9999999999999996, 0.0)\n",
      "all-rac-alpha-Tocopherolacetat <-> Lysinacetat (0.9999999999999996, 0.0)\n",
      "all-rac-alpha-Tocopherolacetat <-> Leucin (0.9999999999999996, 0.0)\n",
      "all-rac-alpha-Tocopherolacetat <-> Isoleucin (0.9999999999999996, 0.0)\n",
      "all-rac-alpha-Tocopherolacetat <-> Irinotecanhydrochlorid 3 H<2>O (0.9902341222748605, 0.0)\n",
      "Von-Willebrand-Faktor vom Menschen <-> Metyrapon (1.0, 0.0)\n",
      "Valin <-> Tyrosin (0.9999999999999994, 0.0)\n",
      "Valin <-> Tryptophan (0.9999999999999994, 0.0)\n",
      "Valin <-> Threonin (0.9999999999999994, 0.0)\n",
      "Valin <-> Taurin (0.9999999999999994, 0.0)\n",
      "Valin <-> Serin (0.9999999999999994, 0.0)\n",
      "Valin <-> Retinolpalmitat (0.9999999999999996, 0.0)\n",
      "Valin <-> Prolin (0.9999999999999994, 0.0)\n",
      "Valin <-> Phytomenadion (0.9999999999999996, 0.0)\n",
      "Valin <-> Phenylalanin (0.9999999999999994, 0.0)\n",
      "Valin <-> Natriummolybdat-Dihydrat (0.9999999999999994, 0.0)\n",
      "Valin <-> Natriumchlorid (0.9999999999999996, 0.0)\n",
      "Valin <-> Methionin (0.9999999999999994, 0.0)\n",
      "Valin <-> Lysinacetat (0.9999999999999994, 0.0)\n",
      "Valin <-> Leucin (0.9999999999999994, 0.0)\n",
      "Valin <-> Isoleucin (0.9999999999999994, 0.0)\n",
      "Valin <-> Irinotecanhydrochlorid 3 H<2>O (0.9902341222748602, 0.0)\n",
      "Tyrosin <-> Tryptophan (0.9999999999999994, 0.0)\n",
      "Tyrosin <-> Threonin (0.9999999999999994, 0.0)\n",
      "Tyrosin <-> Taurin (0.9999999999999994, 0.0)\n",
      "Tyrosin <-> Serin (0.9999999999999994, 0.0)\n",
      "Tyrosin <-> Retinolpalmitat (0.9999999999999996, 0.0)\n",
      "Tyrosin <-> Prolin (0.9999999999999994, 0.0)\n",
      "Tyrosin <-> Phytomenadion (0.9999999999999996, 0.0)\n",
      "Tyrosin <-> Phenylalanin (0.9999999999999994, 0.0)\n",
      "Tyrosin <-> Natriummolybdat-Dihydrat (0.9999999999999994, 0.0)\n",
      "Tyrosin <-> Natriumchlorid (0.9999999999999996, 0.0)\n",
      "Tyrosin <-> Methionin (0.9999999999999994, 0.0)\n",
      "Tyrosin <-> Lysinacetat (0.9999999999999994, 0.0)\n",
      "Tyrosin <-> Leucin (0.9999999999999994, 0.0)\n",
      "Tyrosin <-> Isoleucin (0.9999999999999994, 0.0)\n",
      "Tyrosin <-> Irinotecanhydrochlorid 3 H<2>O (0.9902341222748602, 0.0)\n",
      "Tryptophan <-> Threonin (0.9999999999999994, 0.0)\n",
      "Tryptophan <-> Taurin (0.9999999999999994, 0.0)\n",
      "Tryptophan <-> Serin (0.9999999999999994, 0.0)\n",
      "Tryptophan <-> Retinolpalmitat (0.9999999999999996, 0.0)\n",
      "Tryptophan <-> Prolin (0.9999999999999994, 0.0)\n",
      "Tryptophan <-> Phytomenadion (0.9999999999999996, 0.0)\n",
      "Tryptophan <-> Phenylalanin (0.9999999999999994, 0.0)\n",
      "Tryptophan <-> Natriummolybdat-Dihydrat (0.9999999999999994, 0.0)\n",
      "Tryptophan <-> Natriumchlorid (0.9999999999999996, 0.0)\n",
      "Tryptophan <-> Methionin (0.9999999999999994, 0.0)\n",
      "Tryptophan <-> Lysinacetat (0.9999999999999994, 0.0)\n",
      "Tryptophan <-> Leucin (0.9999999999999994, 0.0)\n",
      "Tryptophan <-> Isoleucin (0.9999999999999994, 0.0)\n",
      "Tryptophan <-> Irinotecanhydrochlorid 3 H<2>O (0.9902341222748602, 0.0)\n",
      "Threonin <-> Taurin (0.9999999999999994, 0.0)\n",
      "Threonin <-> Serin (0.9999999999999994, 0.0)\n",
      "Threonin <-> Retinolpalmitat (0.9999999999999996, 0.0)\n",
      "Threonin <-> Prolin (0.9999999999999994, 0.0)\n",
      "Threonin <-> Phytomenadion (0.9999999999999996, 0.0)\n",
      "Threonin <-> Phenylalanin (0.9999999999999994, 0.0)\n",
      "Threonin <-> Natriummolybdat-Dihydrat (0.9999999999999994, 0.0)\n",
      "Threonin <-> Natriumchlorid (0.9999999999999996, 0.0)\n",
      "Threonin <-> Methionin (0.9999999999999994, 0.0)\n",
      "Threonin <-> Lysinacetat (0.9999999999999994, 0.0)\n",
      "Threonin <-> Leucin (0.9999999999999994, 0.0)\n",
      "Threonin <-> Isoleucin (0.9999999999999994, 0.0)\n",
      "Threonin <-> Irinotecanhydrochlorid 3 H<2>O (0.9902341222748602, 0.0)\n",
      "Taurin <-> Serin (0.9999999999999994, 0.0)\n",
      "Taurin <-> Retinolpalmitat (0.9999999999999996, 0.0)\n",
      "Taurin <-> Prolin (0.9999999999999994, 0.0)\n",
      "Taurin <-> Phytomenadion (0.9999999999999996, 0.0)\n",
      "Taurin <-> Phenylalanin (0.9999999999999994, 0.0)\n",
      "Taurin <-> Natriummolybdat-Dihydrat (0.9999999999999994, 0.0)\n",
      "Taurin <-> Natriumchlorid (0.9999999999999996, 0.0)\n",
      "Taurin <-> Methionin (0.9999999999999994, 0.0)\n",
      "Taurin <-> Lysinacetat (0.9999999999999994, 0.0)\n",
      "Taurin <-> Leucin (0.9999999999999994, 0.0)\n",
      "Taurin <-> Isoleucin (0.9999999999999994, 0.0)\n",
      "Taurin <-> Irinotecanhydrochlorid 3 H<2>O (0.9902341222748602, 0.0)\n",
      "Serin <-> Retinolpalmitat (0.9999999999999996, 0.0)\n",
      "Serin <-> Prolin (0.9999999999999994, 0.0)\n",
      "Serin <-> Phytomenadion (0.9999999999999996, 0.0)\n",
      "Serin <-> Phenylalanin (0.9999999999999994, 0.0)\n",
      "Serin <-> Natriummolybdat-Dihydrat (0.9999999999999994, 0.0)\n",
      "Serin <-> Natriumchlorid (0.9999999999999996, 0.0)\n",
      "Serin <-> Methionin (0.9999999999999994, 0.0)\n",
      "Serin <-> Lysinacetat (0.9999999999999994, 0.0)\n",
      "Serin <-> Leucin (0.9999999999999994, 0.0)\n",
      "Serin <-> Isoleucin (0.9999999999999994, 0.0)\n",
      "Serin <-> Irinotecanhydrochlorid 3 H<2>O (0.9902341222748602, 0.0)\n",
      "Ropinirolhydrochlorid <-> Nortriptylinhydrochlorid (1.0, 0.0)\n",
      "Ropinirolhydrochlorid <-> Nebivololhydrochlorid (0.9532801273018775, 0.0)\n",
      "Retinolpalmitat <-> Prolin (0.9999999999999996, 0.0)\n",
      "Retinolpalmitat <-> Phytomenadion (0.9999999999999998, 0.0)\n",
      "Retinolpalmitat <-> Phenylalanin (0.9999999999999996, 0.0)\n",
      "Retinolpalmitat <-> Natriummolybdat-Dihydrat (0.9999999999999996, 0.0)\n",
      "Retinolpalmitat <-> Natriumchlorid (0.9999999999999998, 0.0)\n",
      "Retinolpalmitat <-> Methionin (0.9999999999999996, 0.0)\n",
      "Retinolpalmitat <-> Lysinacetat (0.9999999999999996, 0.0)\n",
      "Retinolpalmitat <-> Leucin (0.9999999999999996, 0.0)\n",
      "Retinolpalmitat <-> Isoleucin (0.9999999999999996, 0.0)\n",
      "Retinolpalmitat <-> Irinotecanhydrochlorid 3 H<2>O (0.9902341222748605, 0.0)\n",
      "Prolin <-> Phytomenadion (0.9999999999999996, 0.0)\n",
      "Prolin <-> Phenylalanin (0.9999999999999994, 0.0)\n",
      "Prolin <-> Natriummolybdat-Dihydrat (0.9999999999999994, 0.0)\n",
      "Prolin <-> Natriumchlorid (0.9999999999999996, 0.0)\n",
      "Prolin <-> Methionin (0.9999999999999994, 0.0)\n",
      "Prolin <-> Lysinacetat (0.9999999999999994, 0.0)\n",
      "Prolin <-> Leucin (0.9999999999999994, 0.0)\n",
      "Prolin <-> Isoleucin (0.9999999999999994, 0.0)\n",
      "Prolin <-> Irinotecanhydrochlorid 3 H<2>O (0.9902341222748602, 0.0)\n",
      "Phytomenadion <-> Phenylalanin (0.9999999999999996, 0.0)\n",
      "Phytomenadion <-> Natriummolybdat-Dihydrat (0.9999999999999996, 0.0)\n",
      "Phytomenadion <-> Natriumchlorid (0.9999999999999998, 0.0)\n",
      "Phytomenadion <-> Methionin (0.9999999999999996, 0.0)\n",
      "Phytomenadion <-> Lysinacetat (0.9999999999999996, 0.0)\n",
      "Phytomenadion <-> Leucin (0.9999999999999996, 0.0)\n",
      "Phytomenadion <-> Isoleucin (0.9999999999999996, 0.0)\n",
      "Phytomenadion <-> Irinotecanhydrochlorid 3 H<2>O (0.9902341222748605, 0.0)\n",
      "Phenytoin-Natrium <-> Phenytoin (0.9999999999999996, 0.0)\n",
      "Phenylalanin <-> Natriummolybdat-Dihydrat (0.9999999999999994, 0.0)\n",
      "Phenylalanin <-> Natriumchlorid (0.9999999999999996, 0.0)\n",
      "Phenylalanin <-> Methionin (0.9999999999999994, 0.0)\n",
      "Phenylalanin <-> Lysinacetat (0.9999999999999994, 0.0)\n",
      "Phenylalanin <-> Leucin (0.9999999999999994, 0.0)\n",
      "Phenylalanin <-> Isoleucin (0.9999999999999994, 0.0)\n",
      "Phenylalanin <-> Irinotecanhydrochlorid 3 H<2>O (0.9902341222748602, 0.0)\n",
      "Oxaliplatin <-> Imatinibmesilat (0.9994679383513116, 0.0)\n",
      "Nortriptylinhydrochlorid <-> Nebivololhydrochlorid (0.9532801273018775, 0.0)\n",
      "Natriummolybdat-Dihydrat <-> Natriumchlorid (0.9999999999999996, 0.0)\n",
      "Natriummolybdat-Dihydrat <-> Methionin (0.9999999999999994, 0.0)\n",
      "Natriummolybdat-Dihydrat <-> Lysinacetat (0.9999999999999994, 0.0)\n",
      "Natriummolybdat-Dihydrat <-> Leucin (0.9999999999999994, 0.0)\n",
      "Natriummolybdat-Dihydrat <-> Isoleucin (0.9999999999999994, 0.0)\n",
      "Natriummolybdat-Dihydrat <-> Irinotecanhydrochlorid 3 H<2>O (0.9902341222748602, 0.0)\n",
      "Natriumchlorid <-> Methionin (0.9999999999999996, 0.0)\n",
      "Natriumchlorid <-> Lysinacetat (0.9999999999999996, 0.0)\n",
      "Natriumchlorid <-> Leucin (0.9999999999999996, 0.0)\n",
      "Natriumchlorid <-> Isoleucin (0.9999999999999996, 0.0)\n",
      "Natriumchlorid <-> Irinotecanhydrochlorid 3 H<2>O (0.9902341222748605, 0.0)\n",
      "Methionin <-> Lysinacetat (0.9999999999999994, 0.0)\n",
      "Methionin <-> Leucin (0.9999999999999994, 0.0)\n",
      "Methionin <-> Isoleucin (0.9999999999999994, 0.0)\n",
      "Methionin <-> Irinotecanhydrochlorid 3 H<2>O (0.9902341222748602, 0.0)\n",
      "Lysinacetat <-> Leucin (0.9999999999999994, 0.0)\n",
      "Lysinacetat <-> Isoleucin (0.9999999999999994, 0.0)\n",
      "Lysinacetat <-> Irinotecanhydrochlorid 3 H<2>O (0.9902341222748602, 0.0)\n",
      "Leucin <-> Isoleucin (0.9999999999999994, 0.0)\n",
      "Leucin <-> Irinotecanhydrochlorid 3 H<2>O (0.9902341222748602, 0.0)\n",
      "Isoleucin <-> Irinotecanhydrochlorid 3 H<2>O (0.9902341222748602, 0.0)\n"
     ]
    }
   ],
   "source": [
    "for i in range(X200.shape[1]):\n",
    "    for j in range(i+1, X200.shape[1]):\n",
    "        corr = pearsonr(X200[:,i], X200[:,j])\n",
    "        if corr[0]>0.9 and corr[1]<0.05:\n",
    "            print(top_ingredients[i], \"<->\", top_ingredients[j], corr)"
   ]
  },
  {
   "cell_type": "code",
   "execution_count": null,
   "id": "f0a46c5e",
   "metadata": {},
   "outputs": [],
   "source": []
  },
  {
   "cell_type": "code",
   "execution_count": null,
   "id": "86204bb2",
   "metadata": {},
   "outputs": [],
   "source": []
  },
  {
   "cell_type": "code",
   "execution_count": null,
   "id": "037c8d3e",
   "metadata": {},
   "outputs": [],
   "source": []
  },
  {
   "cell_type": "code",
   "execution_count": null,
   "id": "83b40339",
   "metadata": {},
   "outputs": [],
   "source": []
  },
  {
   "cell_type": "code",
   "execution_count": 69,
   "id": "ad01084a",
   "metadata": {},
   "outputs": [],
   "source": [
    "k = 20\n",
    "top_k = get_wirkstoff_distr(df_train, k)"
   ]
  },
  {
   "cell_type": "code",
   "execution_count": null,
   "id": "7f65119d",
   "metadata": {},
   "outputs": [],
   "source": []
  },
  {
   "cell_type": "code",
   "execution_count": 70,
   "id": "a060adb6",
   "metadata": {},
   "outputs": [],
   "source": [
    "X, y = create_dataset(df, comp_vectors, top_k)"
   ]
  },
  {
   "cell_type": "code",
   "execution_count": 71,
   "id": "2864d189",
   "metadata": {},
   "outputs": [],
   "source": [
    "X_train, y_train = create_dataset(df_train, comp_vectors, top_k)"
   ]
  },
  {
   "cell_type": "code",
   "execution_count": 72,
   "id": "f4dbc247",
   "metadata": {},
   "outputs": [],
   "source": [
    "X_test, y_test = create_dataset(df_test, comp_vectors, top_k)"
   ]
  },
  {
   "cell_type": "code",
   "execution_count": 177,
   "id": "0ccb2820",
   "metadata": {},
   "outputs": [
    {
     "data": {
      "text/plain": [
       "(1261, 425, 1261, 425)"
      ]
     },
     "execution_count": 177,
     "metadata": {},
     "output_type": "execute_result"
    }
   ],
   "source": [
    "len(X_train), len(X_test), len(y_train), len(y_test)"
   ]
  },
  {
   "cell_type": "code",
   "execution_count": null,
   "id": "972c0534",
   "metadata": {},
   "outputs": [],
   "source": []
  },
  {
   "cell_type": "code",
   "execution_count": 183,
   "id": "15605c86",
   "metadata": {},
   "outputs": [
    {
     "data": {
      "text/plain": [
       "0.9432002932960113"
      ]
     },
     "execution_count": 183,
     "metadata": {},
     "output_type": "execute_result"
    },
    {
     "data": {
      "image/png": "[encoded data removed]",
      "text/plain": [
       "<Figure size 432x288 with 1 Axes>"
      ]
     },
     "metadata": {
      "needs_background": "light"
     },
     "output_type": "display_data"
    }
   ],
   "source": [
    "pca_comps = 10\n",
    "pca = PCA(pca_comps)\n",
    "pca.fit(X_train)\n",
    "plt.bar(range(pca_comps), pca.explained_variance_)\n",
    "sum(pca.explained_variance_ratio_)"
   ]
  },
  {
   "cell_type": "code",
   "execution_count": 75,
   "id": "304b8eeb",
   "metadata": {},
   "outputs": [],
   "source": [
    "X_train_pca = pca.transform(X_train)\n",
    "X_test_pca = pca.transform(X_test)"
   ]
  },
  {
   "cell_type": "code",
   "execution_count": null,
   "id": "9b34a306",
   "metadata": {},
   "outputs": [],
   "source": []
  },
  {
   "cell_type": "code",
   "execution_count": null,
   "id": "f981aa09",
   "metadata": {},
   "outputs": [],
   "source": []
  },
  {
   "cell_type": "code",
   "execution_count": 76,
   "id": "8819e111",
   "metadata": {},
   "outputs": [
    {
     "data": {
      "text/plain": [
       "(0.37351308485329104, 0.07294117647058823)"
      ]
     },
     "execution_count": 76,
     "metadata": {},
     "output_type": "execute_result"
    }
   ],
   "source": [
    "np.count_nonzero(y_train)/len(y_train), np.count_nonzero(y_test)/len(y_test)"
   ]
  },
  {
   "cell_type": "code",
   "execution_count": 77,
   "id": "f5c80df1",
   "metadata": {},
   "outputs": [
    {
     "data": {
      "text/plain": [
       "Counter({0: 790,\n",
       "         3: 37,\n",
       "         20: 9,\n",
       "         1: 123,\n",
       "         2: 69,\n",
       "         7: 16,\n",
       "         13: 13,\n",
       "         11: 15,\n",
       "         16: 11,\n",
       "         4: 25,\n",
       "         12: 14,\n",
       "         5: 22,\n",
       "         10: 15,\n",
       "         8: 16,\n",
       "         9: 15,\n",
       "         19: 10,\n",
       "         18: 10,\n",
       "         17: 11,\n",
       "         15: 11,\n",
       "         14: 11,\n",
       "         6: 18})"
      ]
     },
     "execution_count": 77,
     "metadata": {},
     "output_type": "execute_result"
    }
   ],
   "source": [
    "Counter(y_train)"
   ]
  },
  {
   "cell_type": "code",
   "execution_count": 90,
   "id": "d5414cd5",
   "metadata": {},
   "outputs": [
    {
     "name": "stdout",
     "output_type": "stream",
     "text": [
      "tuned hyperparameters :(best parameters)  {'criterion': 'entropy', 'max_depth': 6}\n",
      "accuracy : 0.6534945730597904\n"
     ]
    }
   ],
   "source": [
    "model_dt = tree.DecisionTreeClassifier()\n",
    "tree_para = {'criterion':['gini','entropy'],'max_depth':[4,5,6,7,8,9,10]}\n",
    "grid_dt = GridSearchCV(estimator=model_dt, param_grid=tree_para, cv=5)\n",
    "clf_dt = grid_dt.fit(X_train_pca, y_train)\n",
    "print(\"tuned hyperparameters :(best parameters) \",clf_dt.best_params_)\n",
    "print(\"accuracy :\",clf_dt.best_score_)"
   ]
  },
  {
   "cell_type": "code",
   "execution_count": 109,
   "id": "6aac076e",
   "metadata": {},
   "outputs": [
    {
     "name": "stderr",
     "output_type": "stream",
     "text": [
      "/home/koki/.local/lib/python3.8/site-packages/sklearn/svm/_base.py:985: ConvergenceWarning: Liblinear failed to converge, increase the number of iterations.\n",
      "  warnings.warn(\"Liblinear failed to converge, increase \"\n",
      "/home/koki/.local/lib/python3.8/site-packages/sklearn/svm/_base.py:985: ConvergenceWarning: Liblinear failed to converge, increase the number of iterations.\n",
      "  warnings.warn(\"Liblinear failed to converge, increase \"\n",
      "/home/koki/.local/lib/python3.8/site-packages/sklearn/svm/_base.py:985: ConvergenceWarning: Liblinear failed to converge, increase the number of iterations.\n",
      "  warnings.warn(\"Liblinear failed to converge, increase \"\n",
      "/home/koki/.local/lib/python3.8/site-packages/sklearn/svm/_base.py:985: ConvergenceWarning: Liblinear failed to converge, increase the number of iterations.\n",
      "  warnings.warn(\"Liblinear failed to converge, increase \"\n",
      "/home/koki/.local/lib/python3.8/site-packages/sklearn/svm/_base.py:985: ConvergenceWarning: Liblinear failed to converge, increase the number of iterations.\n",
      "  warnings.warn(\"Liblinear failed to converge, increase \"\n",
      "/home/koki/.local/lib/python3.8/site-packages/sklearn/svm/_base.py:985: ConvergenceWarning: Liblinear failed to converge, increase the number of iterations.\n",
      "  warnings.warn(\"Liblinear failed to converge, increase \"\n"
     ]
    }
   ],
   "source": [
    "model_lr = LogisticRegression(solver='liblinear', max_iter=300)\n",
    "lr_para = {\"C\":np.logspace(-2,2,5), \"penalty\":[\"l1\",\"l2\"]}\n",
    "grid_lr = GridSearchCV(estimator=model_lr, param_grid=lr_para, cv=5)\n",
    "clf_lr = grid_lr.fit(X_train_pca, y_train)"
   ]
  },
  {
   "cell_type": "code",
   "execution_count": 110,
   "id": "cd748732",
   "metadata": {},
   "outputs": [
    {
     "name": "stdout",
     "output_type": "stream",
     "text": [
      "tuned hyperparameters :(best parameters)  {'C': 0.1, 'penalty': 'l1'}\n",
      "accuracy : 0.6542474433778781\n"
     ]
    }
   ],
   "source": [
    "print(\"tuned hyperparameters :(best parameters) \",clf_lr.best_params_)\n",
    "print(\"accuracy :\",clf_lr.best_score_)"
   ]
  },
  {
   "cell_type": "code",
   "execution_count": 111,
   "id": "5a75ad72",
   "metadata": {},
   "outputs": [],
   "source": [
    "#clf_dt = tree.DecisionTreeClassifier(criterion='entropy', max_depth=4)\n",
    "# clf_dt.fit(X_train, y_train)"
   ]
  },
  {
   "cell_type": "code",
   "execution_count": 112,
   "id": "00f45d0f",
   "metadata": {},
   "outputs": [],
   "source": [
    "# clf_lr = LogisticRegression(C=0.01, solver='liblinear', penalty = 'l1', max_iter=500)\n",
    "# clf_lr.fit(X_train, y_train)"
   ]
  },
  {
   "cell_type": "code",
   "execution_count": 113,
   "id": "bb96d58b",
   "metadata": {},
   "outputs": [],
   "source": [
    "y_pred_dt = clf_dt.predict(X_test_pca)\n",
    "y_pred_proba_dt = clf_dt.predict_proba(X_test_pca)"
   ]
  },
  {
   "cell_type": "code",
   "execution_count": 114,
   "id": "a665c5a4",
   "metadata": {},
   "outputs": [],
   "source": [
    "y_pred_lr = clf_lr.predict(X_test_pca)\n",
    "y_pred_proba_lr = clf_lr.predict_proba(X_test_pca)"
   ]
  },
  {
   "cell_type": "code",
   "execution_count": 115,
   "id": "71e0c313",
   "metadata": {},
   "outputs": [],
   "source": [
    "# sorted(sklearn.metrics.SCORERS.keys())"
   ]
  },
  {
   "cell_type": "code",
   "execution_count": 116,
   "id": "0b09ab18",
   "metadata": {},
   "outputs": [],
   "source": [
    "# cross_val_score(lr, X, y, cv=3, scoring='neg_log_loss')"
   ]
  },
  {
   "cell_type": "code",
   "execution_count": 117,
   "id": "45951836",
   "metadata": {},
   "outputs": [
    {
     "data": {
      "text/plain": [
       "(0.07876143831200011, 0.07381602485641653)"
      ]
     },
     "execution_count": 117,
     "metadata": {},
     "output_type": "execute_result"
    }
   ],
   "source": [
    "metrics.f1_score(y_test, y_pred_dt, average='macro'), metrics.f1_score(y_test, y_pred_lr, average='macro')"
   ]
  },
  {
   "cell_type": "code",
   "execution_count": 118,
   "id": "e376fdca",
   "metadata": {},
   "outputs": [
    {
     "data": {
      "text/plain": [
       "(0.8964705882352941, 0.9223529411764706)"
      ]
     },
     "execution_count": 118,
     "metadata": {},
     "output_type": "execute_result"
    }
   ],
   "source": [
    "metrics.f1_score(y_test, y_pred_dt, average='micro'), metrics.f1_score(y_test, y_pred_lr, average='micro')"
   ]
  },
  {
   "cell_type": "code",
   "execution_count": 119,
   "id": "b33340c0",
   "metadata": {},
   "outputs": [
    {
     "data": {
      "text/plain": [
       "(1.4738389442253517, 0.701974071738471)"
      ]
     },
     "execution_count": 119,
     "metadata": {},
     "output_type": "execute_result"
    }
   ],
   "source": [
    "metrics.log_loss(y_test, y_pred_proba_dt, labels=list(range(k+1))), \\\n",
    "metrics.log_loss(y_test, y_pred_proba_lr, labels=list(range(k+1)))"
   ]
  },
  {
   "cell_type": "code",
   "execution_count": 120,
   "id": "64bddb19",
   "metadata": {},
   "outputs": [],
   "source": [
    "baseline = [[1/(k+1) for _ in range(k+1)] for _ in range(len(y_pred_proba_lr))]"
   ]
  },
  {
   "cell_type": "code",
   "execution_count": 121,
   "id": "778417f7",
   "metadata": {},
   "outputs": [],
   "source": [
    "vals = Counter(y_train)\n",
    "baseline2 = [[vals[i]/sum(vals.values()) for i in range(k+1)] for _ in range(len(y_pred_proba_lr))]"
   ]
  },
  {
   "cell_type": "code",
   "execution_count": 122,
   "id": "0d61c195",
   "metadata": {},
   "outputs": [
    {
     "data": {
      "text/plain": [
       "425"
      ]
     },
     "execution_count": 122,
     "metadata": {},
     "output_type": "execute_result"
    }
   ],
   "source": [
    "len(baseline2)"
   ]
  },
  {
   "cell_type": "code",
   "execution_count": 123,
   "id": "66648aba",
   "metadata": {},
   "outputs": [
    {
     "data": {
      "text/plain": [
       "(3.044522437723423, 0.738386734457992)"
      ]
     },
     "execution_count": 123,
     "metadata": {},
     "output_type": "execute_result"
    }
   ],
   "source": [
    "metrics.log_loss(y_test, baseline, labels=list(range(k+1))), \\\n",
    "metrics.log_loss(y_test, baseline2, labels=list(range(k+1)))"
   ]
  },
  {
   "cell_type": "code",
   "execution_count": 124,
   "id": "3956037b",
   "metadata": {},
   "outputs": [],
   "source": [
    "def plot_entropy(preds, title):\n",
    "    vals = []\n",
    "    for pr in preds:\n",
    "        vals.append(entropy(pr))\n",
    "    plt.hist(vals, 10, alpha=0.7)\n",
    "    plt.title(\"Entropy distribution: {} \\n Mean value: {}\".format(title, np.round(np.mean(vals), 3)), \\\n",
    "              fontsize=13)\n",
    "    plt.show()"
   ]
  },
  {
   "cell_type": "code",
   "execution_count": 125,
   "id": "9b751d92",
   "metadata": {},
   "outputs": [
    {
     "data": {
      "image/png": "[encoded data removed]",
      "text/plain": [
       "<Figure size 432x288 with 1 Axes>"
      ]
     },
     "metadata": {
      "needs_background": "light"
     },
     "output_type": "display_data"
    }
   ],
   "source": [
    "plot_entropy(y_pred_proba_dt, title=\"Decision tree (standard)\")"
   ]
  },
  {
   "cell_type": "code",
   "execution_count": 126,
   "id": "b1c25a7f",
   "metadata": {},
   "outputs": [
    {
     "data": {
      "image/png": "[encoded data removed]",
      "text/plain": [
       "<Figure size 432x288 with 1 Axes>"
      ]
     },
     "metadata": {
      "needs_background": "light"
     },
     "output_type": "display_data"
    }
   ],
   "source": [
    "plot_entropy(y_pred_proba_lr, title='Logistic regression (standard)')"
   ]
  },
  {
   "cell_type": "code",
   "execution_count": 160,
   "id": "cf22ec10",
   "metadata": {},
   "outputs": [],
   "source": [
    "def get_embeddings_from_file(fname):\n",
    "    embeddings = {}\n",
    "    f = open(fname, 'r')\n",
    "    for line in f.readlines():\n",
    "        word = line.split('<->')[0] \n",
    "        vec = line.split('<->')[1]\n",
    "        l = []\n",
    "        for nr in vec.split():\n",
    "            l.append(nr)\n",
    "        embeddings[word] = np.array(l, dtype=np.float64)\n",
    "    f.close()\n",
    "    return embeddings"
   ]
  },
  {
   "cell_type": "code",
   "execution_count": 161,
   "id": "bdfa108f",
   "metadata": {},
   "outputs": [],
   "source": [
    "fname = \"/home/koki/Desktop/Data/OutOfStock/embeddings.txt\"\n",
    "embeddings = get_embeddings_from_file(fname)"
   ]
  },
  {
   "cell_type": "code",
   "execution_count": 162,
   "id": "1bf56d20",
   "metadata": {},
   "outputs": [],
   "source": [
    "def create_dataset_emb(df, embeddings, top_ingredients):\n",
    "    X = []\n",
    "    y = []\n",
    "    for _, row in df.iterrows():\n",
    "        if row['Zulassungsinhaber'] not in embeddings:\n",
    "            continue\n",
    "        found = False\n",
    "        for ws in row['wirkstoff']:\n",
    "            if ws in top_ingredients:\n",
    "                X.append(embeddings[row['Zulassungsinhaber']])\n",
    "                y.append(top_ingredients.index(ws)+1)\n",
    "                found = True\n",
    "        if not found:\n",
    "            X.append(embeddings[row['Zulassungsinhaber']])\n",
    "            y.append(0)\n",
    "    return X, y"
   ]
  },
  {
   "cell_type": "code",
   "execution_count": 163,
   "id": "6a502112",
   "metadata": {},
   "outputs": [],
   "source": [
    "X_emb, y_emb = create_dataset_emb(df, embeddings, top_k)\n",
    "X_train_emb, y_train_emb = create_dataset_emb(df_train, embeddings, top_k)\n",
    "X_test_emb, y_test_emb = create_dataset_emb(df_test, embeddings, top_k)"
   ]
  },
  {
   "cell_type": "code",
   "execution_count": 164,
   "id": "0da178d4",
   "metadata": {},
   "outputs": [
    {
     "data": {
      "text/plain": [
       "(1257, 464)"
      ]
     },
     "execution_count": 164,
     "metadata": {},
     "output_type": "execute_result"
    }
   ],
   "source": [
    "len(X_train_emb), len(X_test_emb)"
   ]
  },
  {
   "cell_type": "code",
   "execution_count": 165,
   "id": "edf59ac9",
   "metadata": {},
   "outputs": [
    {
     "data": {
      "text/plain": [
       "(1257, 10)"
      ]
     },
     "execution_count": 165,
     "metadata": {},
     "output_type": "execute_result"
    }
   ],
   "source": [
    "X_train_emb = np.array(X_train_emb)\n",
    "X_train_emb.shape"
   ]
  },
  {
   "cell_type": "code",
   "execution_count": 166,
   "id": "5c426006",
   "metadata": {},
   "outputs": [],
   "source": [
    "# pca_comps = 10\n",
    "# pca = PCA(pca_comps)\n",
    "# pca.fit(X_train)\n",
    "# plt.bar(range(pca_comps), pca.explained_variance_)"
   ]
  },
  {
   "cell_type": "code",
   "execution_count": null,
   "id": "4a431205",
   "metadata": {},
   "outputs": [],
   "source": []
  },
  {
   "cell_type": "code",
   "execution_count": null,
   "id": "bdb6f9f1",
   "metadata": {},
   "outputs": [],
   "source": []
  },
  {
   "cell_type": "code",
   "execution_count": 167,
   "id": "0190a9e3",
   "metadata": {},
   "outputs": [
    {
     "name": "stdout",
     "output_type": "stream",
     "text": [
      "tuned hyperparameters :(best parameters)  {'criterion': 'gini', 'max_depth': 4}\n",
      "accuracy : 0.6507557073294125\n"
     ]
    }
   ],
   "source": [
    "model_dt_emb = tree.DecisionTreeClassifier()\n",
    "tree_para = {'criterion':['gini','entropy'],'max_depth':[4,5,6,7,8,9,10]}\n",
    "grid_dt_emb = GridSearchCV(estimator=model_dt_emb, param_grid=tree_para, cv=5)\n",
    "clf_dt_emb = grid_dt_emb.fit(X_train_emb, y_train_emb)\n",
    "print(\"tuned hyperparameters :(best parameters) \",clf_dt_emb.best_params_)\n",
    "print(\"accuracy :\",clf_dt_emb.best_score_)"
   ]
  },
  {
   "cell_type": "code",
   "execution_count": 168,
   "id": "bc68d821",
   "metadata": {},
   "outputs": [
    {
     "name": "stdout",
     "output_type": "stream",
     "text": [
      "tuned hyperparameters :(best parameters)  {'C': 1.0, 'penalty': 'l1'}\n",
      "accuracy : 0.6531429836210713\n"
     ]
    }
   ],
   "source": [
    "model_lr_emb = LogisticRegression(solver='liblinear', max_iter=300)\n",
    "lr_para = {\"C\":np.logspace(-2,2,5), \"penalty\":[\"l1\",\"l2\"]}\n",
    "grid_lr_emb = GridSearchCV(estimator=model_lr_emb, param_grid=lr_para, cv=5)\n",
    "clf_lr_emb = grid_lr_emb.fit(X_train_emb, y_train_emb)\n",
    "print(\"tuned hyperparameters :(best parameters) \",clf_lr_emb.best_params_)\n",
    "print(\"accuracy :\",clf_lr_emb.best_score_)"
   ]
  },
  {
   "cell_type": "code",
   "execution_count": 185,
   "id": "ee0597f6",
   "metadata": {},
   "outputs": [
    {
     "data": {
      "text/plain": [
       "(0.11190205689093088, 1.0296530140645737)"
      ]
     },
     "execution_count": 185,
     "metadata": {},
     "output_type": "execute_result"
    }
   ],
   "source": [
    "entropy([0.01, 0.98, 0.01]), entropy([0.2, 0.5, 0.3])"
   ]
  },
  {
   "cell_type": "code",
   "execution_count": 169,
   "id": "a38fd176",
   "metadata": {},
   "outputs": [],
   "source": [
    "y_pred_emb_dt = clf_dt_emb.predict(X_test_emb)\n",
    "y_pred_emb_dt_proba = clf_dt_emb.predict_proba(X_test_emb)"
   ]
  },
  {
   "cell_type": "code",
   "execution_count": 170,
   "id": "71a446ba",
   "metadata": {},
   "outputs": [],
   "source": [
    "y_pred_emb_lr = clf_lr_emb.predict(X_test_emb)\n",
    "y_pred_emb_lr_proba = clf_lr_emb.predict_proba(X_test_emb)"
   ]
  },
  {
   "cell_type": "code",
   "execution_count": 171,
   "id": "ad61b489",
   "metadata": {},
   "outputs": [],
   "source": [
    "ye = np.eye(k+1)[y_test_emb]"
   ]
  },
  {
   "cell_type": "code",
   "execution_count": 172,
   "id": "e8542d31",
   "metadata": {},
   "outputs": [
    {
     "data": {
      "text/plain": [
       "(1.0212902745725163, 0.613757145441929)"
      ]
     },
     "execution_count": 172,
     "metadata": {},
     "output_type": "execute_result"
    }
   ],
   "source": [
    "metrics.log_loss(ye, y_pred_emb_dt_proba), metrics.log_loss(ye, y_pred_emb_lr_proba)"
   ]
  },
  {
   "cell_type": "code",
   "execution_count": 173,
   "id": "cb97dab3",
   "metadata": {},
   "outputs": [
    {
     "data": {
      "text/plain": [
       "(0.06846240179573512, 0.07398444252376836)"
      ]
     },
     "execution_count": 173,
     "metadata": {},
     "output_type": "execute_result"
    }
   ],
   "source": [
    "metrics.f1_score(y_test_emb, y_pred_emb_dt, average='macro'), \\\n",
    "metrics.f1_score(y_test_emb, y_pred_emb_lr, average='macro')"
   ]
  },
  {
   "cell_type": "code",
   "execution_count": 174,
   "id": "3d184129",
   "metadata": {},
   "outputs": [
    {
     "data": {
      "text/plain": [
       "(0.9202586206896551, 0.9224137931034483)"
      ]
     },
     "execution_count": 174,
     "metadata": {},
     "output_type": "execute_result"
    }
   ],
   "source": [
    "metrics.f1_score(y_test_emb, y_pred_emb_dt, average='micro'), \\\n",
    "metrics.f1_score(y_test_emb, y_pred_emb_lr, average='micro')"
   ]
  },
  {
   "cell_type": "code",
   "execution_count": 175,
   "id": "824b873e",
   "metadata": {},
   "outputs": [
    {
     "data": {
      "image/png": "[encoded data removed]",
      "text/plain": [
       "<Figure size 432x288 with 1 Axes>"
      ]
     },
     "metadata": {
      "needs_background": "light"
     },
     "output_type": "display_data"
    }
   ],
   "source": [
    "plot_entropy(y_pred_emb_dt_proba, title=\"Decision tree (embeddings)\")"
   ]
  },
  {
   "cell_type": "code",
   "execution_count": 176,
   "id": "22137741",
   "metadata": {},
   "outputs": [
    {
     "data": {
      "image/png": "[encoded data removed]",
      "text/plain": [
       "<Figure size 432x288 with 1 Axes>"
      ]
     },
     "metadata": {
      "needs_background": "light"
     },
     "output_type": "display_data"
    }
   ],
   "source": [
    "plot_entropy(y_pred_emb_lr_proba, title=\"Logistic regression (embeddings)\")"
   ]
  },
  {
   "cell_type": "code",
   "execution_count": null,
   "id": "fcd15225",
   "metadata": {},
   "outputs": [],
   "source": []
  },
  {
   "cell_type": "code",
   "execution_count": null,
   "id": "ba2668b9",
   "metadata": {},
   "outputs": [],
   "source": []
  }
 ],
 "metadata": {
  "kernelspec": {
   "display_name": "Python 3",
   "language": "python",
   "name": "python3"
  },
  "language_info": {
   "codemirror_mode": {
    "name": "ipython",
    "version": 3
   },
   "file_extension": ".py",
   "mimetype": "text/x-python",
   "name": "python",
   "nbconvert_exporter": "python",
   "pygments_lexer": "ipython3",
   "version": "3.8.10"
  }
 },
 "nbformat": 4,
 "nbformat_minor": 5
}
